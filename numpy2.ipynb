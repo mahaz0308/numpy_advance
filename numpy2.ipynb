{
 "cells": [
  {
   "cell_type": "code",
   "execution_count": null,
   "metadata": {
    "colab": {},
    "colab_type": "code",
    "id": "_ZElLrpHfUSy"
   },
   "outputs": [],
   "source": [
    "import numpy as np"
   ]
  },
  {
   "cell_type": "code",
   "execution_count": null,
   "metadata": {
    "colab": {
     "base_uri": "https://localhost:8080/",
     "height": 34
    },
    "colab_type": "code",
    "id": "R8M-5_fpzePw",
    "outputId": "6a367a18-1487-4d73-f88d-206c81fa3fc2"
   },
   "outputs": [
    {
     "data": {
      "text/plain": [
       "[1, 2, 3, 1.1, 'TAC']"
      ]
     },
     "execution_count": 181,
     "metadata": {
      "tags": []
     },
     "output_type": "execute_result"
    }
   ],
   "source": [
    "li=[1,2,3,1.1,'TAC']\n",
    "li"
   ]
  },
  {
   "cell_type": "code",
   "execution_count": null,
   "metadata": {
    "colab": {
     "base_uri": "https://localhost:8080/",
     "height": 34
    },
    "colab_type": "code",
    "id": "Al-NOEp9zihA",
    "outputId": "29ca043b-49ef-429a-89bd-5ab7c5ac6bd1"
   },
   "outputs": [
    {
     "data": {
      "text/plain": [
       "array(['1', '2', '3', '1.1', 'TAC'], dtype='<U32')"
      ]
     },
     "execution_count": 182,
     "metadata": {
      "tags": []
     },
     "output_type": "execute_result"
    }
   ],
   "source": [
    "np.array(li)"
   ]
  },
  {
   "cell_type": "code",
   "execution_count": null,
   "metadata": {
    "colab": {
     "base_uri": "https://localhost:8080/",
     "height": 167
    },
    "colab_type": "code",
    "id": "5_OMgf4oznPD",
    "outputId": "fd3191e2-0cbf-4380-8e01-121c37c7c982"
   },
   "outputs": [
    {
     "ename": "ValueError",
     "evalue": "ignored",
     "output_type": "error",
     "traceback": [
      "\u001b[0;31m---------------------------------------------------------------------------\u001b[0m",
      "\u001b[0;31mValueError\u001b[0m                                Traceback (most recent call last)",
      "\u001b[0;32m<ipython-input-183-553b29e1329c>\u001b[0m in \u001b[0;36m<module>\u001b[0;34m()\u001b[0m\n\u001b[0;32m----> 1\u001b[0;31m \u001b[0mnp\u001b[0m\u001b[0;34m.\u001b[0m\u001b[0marray\u001b[0m\u001b[0;34m(\u001b[0m\u001b[0mli\u001b[0m\u001b[0;34m)\u001b[0m\u001b[0;34m.\u001b[0m\u001b[0mastype\u001b[0m\u001b[0;34m(\u001b[0m\u001b[0;34m'float32'\u001b[0m\u001b[0;34m)\u001b[0m\u001b[0;34m\u001b[0m\u001b[0;34m\u001b[0m\u001b[0m\n\u001b[0m",
      "\u001b[0;31mValueError\u001b[0m: could not convert string to float: 'TAC'"
     ]
    }
   ],
   "source": [
    "np.array(li).astype('float32')"
   ]
  },
  {
   "cell_type": "markdown",
   "metadata": {
    "colab_type": "text",
    "id": "ZmDgNH1Mfuhe"
   },
   "source": [
    "# A Multidimensional Array Object"
   ]
  },
  {
   "cell_type": "code",
   "execution_count": null,
   "metadata": {
    "colab": {},
    "colab_type": "code",
    "id": "euiaXY8Afbga"
   },
   "outputs": [],
   "source": [
    "array=np.random.randn(3,3)"
   ]
  },
  {
   "cell_type": "code",
   "execution_count": null,
   "metadata": {
    "colab": {
     "base_uri": "https://localhost:8080/",
     "height": 34
    },
    "colab_type": "code",
    "id": "cIMR5YrVfl0k",
    "outputId": "e97e39eb-82c6-4746-ac9c-fc809fb9ba64"
   },
   "outputs": [
    {
     "data": {
      "text/plain": [
       "(3, 3)"
      ]
     },
     "execution_count": 185,
     "metadata": {
      "tags": []
     },
     "output_type": "execute_result"
    }
   ],
   "source": [
    "array.shape"
   ]
  },
  {
   "cell_type": "code",
   "execution_count": null,
   "metadata": {
    "colab": {
     "base_uri": "https://localhost:8080/",
     "height": 70
    },
    "colab_type": "code",
    "id": "BFnJGniTfmsr",
    "outputId": "e366fe33-cacf-4122-d24b-305a99e6a6c8"
   },
   "outputs": [
    {
     "data": {
      "text/plain": [
       "array([[-1.41506259,  0.44345528, -0.21233834],\n",
       "       [-0.82055294,  1.3662974 ,  0.58113666],\n",
       "       [ 1.419518  , -0.00932537, -0.55368779]])"
      ]
     },
     "execution_count": 186,
     "metadata": {
      "tags": []
     },
     "output_type": "execute_result"
    }
   ],
   "source": [
    "array"
   ]
  },
  {
   "cell_type": "code",
   "execution_count": null,
   "metadata": {
    "colab": {
     "base_uri": "https://localhost:8080/",
     "height": 34
    },
    "colab_type": "code",
    "id": "ISj7bp9FfoMB",
    "outputId": "48ef8ea9-c70d-46c8-8d02-c5197845f19d"
   },
   "outputs": [
    {
     "data": {
      "text/plain": [
       "dtype('float64')"
      ]
     },
     "execution_count": 187,
     "metadata": {
      "tags": []
     },
     "output_type": "execute_result"
    }
   ],
   "source": [
    "array.dtype"
   ]
  },
  {
   "cell_type": "code",
   "execution_count": null,
   "metadata": {
    "colab": {
     "base_uri": "https://localhost:8080/",
     "height": 34
    },
    "colab_type": "code",
    "id": "iKRqua-PfsZl",
    "outputId": "9a5e7f69-8dd1-49a7-e99f-ac87c4298218"
   },
   "outputs": [
    {
     "data": {
      "text/plain": [
       "3"
      ]
     },
     "execution_count": 190,
     "metadata": {
      "tags": []
     },
     "output_type": "execute_result"
    }
   ],
   "source": [
    "np.random.randint(2,5)"
   ]
  },
  {
   "cell_type": "markdown",
   "metadata": {
    "colab_type": "text",
    "id": "zD7HDz10fvxg"
   },
   "source": [
    "# creating nd array"
   ]
  },
  {
   "cell_type": "code",
   "execution_count": null,
   "metadata": {
    "colab": {
     "base_uri": "https://localhost:8080/",
     "height": 34
    },
    "colab_type": "code",
    "id": "QKWlFRpff1eR",
    "outputId": "2b7b3fe5-470d-4c16-fce7-04eb8994cec1"
   },
   "outputs": [
    {
     "data": {
      "text/plain": [
       "array([1, 2, 3, 4])"
      ]
     },
     "execution_count": 191,
     "metadata": {
      "tags": []
     },
     "output_type": "execute_result"
    }
   ],
   "source": [
    "list1=[1,2,3,4]\n",
    "array1=np.array(list1)\n",
    "array1"
   ]
  },
  {
   "cell_type": "code",
   "execution_count": null,
   "metadata": {
    "colab": {
     "base_uri": "https://localhost:8080/",
     "height": 34
    },
    "colab_type": "code",
    "id": "cXt_uwewf9lQ",
    "outputId": "8c0515c6-ddbf-4012-f598-468d2c8913c6"
   },
   "outputs": [
    {
     "data": {
      "text/plain": [
       "(4,)"
      ]
     },
     "execution_count": 192,
     "metadata": {
      "tags": []
     },
     "output_type": "execute_result"
    }
   ],
   "source": [
    "array1.shape"
   ]
  },
  {
   "cell_type": "code",
   "execution_count": null,
   "metadata": {
    "colab": {
     "base_uri": "https://localhost:8080/",
     "height": 34
    },
    "colab_type": "code",
    "id": "5DNrhkM9f-jg",
    "outputId": "3489cb49-a7aa-4ae4-c085-57b22ec1d533"
   },
   "outputs": [
    {
     "data": {
      "text/plain": [
       "dtype('int64')"
      ]
     },
     "execution_count": 193,
     "metadata": {
      "tags": []
     },
     "output_type": "execute_result"
    }
   ],
   "source": [
    "array1.dtype"
   ]
  },
  {
   "cell_type": "code",
   "execution_count": null,
   "metadata": {
    "colab": {
     "base_uri": "https://localhost:8080/",
     "height": 34
    },
    "colab_type": "code",
    "id": "5IZjTeA0f_c9",
    "outputId": "4932de10-4cc4-4cf7-f46d-19280c95a9d5"
   },
   "outputs": [
    {
     "data": {
      "text/plain": [
       "1"
      ]
     },
     "execution_count": 194,
     "metadata": {
      "tags": []
     },
     "output_type": "execute_result"
    }
   ],
   "source": [
    "array1.ndim"
   ]
  },
  {
   "cell_type": "code",
   "execution_count": null,
   "metadata": {
    "colab": {
     "base_uri": "https://localhost:8080/",
     "height": 34
    },
    "colab_type": "code",
    "id": "5PKwZhAngBVx",
    "outputId": "391e893f-d6ea-4721-fb96-c34d218dce79"
   },
   "outputs": [
    {
     "data": {
      "text/plain": [
       "array([1., 2., 3., 4.])"
      ]
     },
     "execution_count": 195,
     "metadata": {
      "tags": []
     },
     "output_type": "execute_result"
    }
   ],
   "source": [
    "list2=[1,2,3.,4]\n",
    "array2=np.array(list2)\n",
    "array2"
   ]
  },
  {
   "cell_type": "code",
   "execution_count": null,
   "metadata": {
    "colab": {
     "base_uri": "https://localhost:8080/",
     "height": 34
    },
    "colab_type": "code",
    "id": "lrnjEPuNgH16",
    "outputId": "809a3afa-9e57-48c0-b1af-4d300cf829ff"
   },
   "outputs": [
    {
     "data": {
      "text/plain": [
       "(4,)"
      ]
     },
     "execution_count": 196,
     "metadata": {
      "tags": []
     },
     "output_type": "execute_result"
    }
   ],
   "source": [
    "array1.shape"
   ]
  },
  {
   "cell_type": "code",
   "execution_count": null,
   "metadata": {
    "colab": {
     "base_uri": "https://localhost:8080/",
     "height": 34
    },
    "colab_type": "code",
    "id": "G7oIjDo4gJNp",
    "outputId": "d715d2b0-3474-4447-e7f3-ac9170a17544"
   },
   "outputs": [
    {
     "data": {
      "text/plain": [
       "dtype('float64')"
      ]
     },
     "execution_count": 198,
     "metadata": {
      "tags": []
     },
     "output_type": "execute_result"
    }
   ],
   "source": [
    "array2.dtype"
   ]
  },
  {
   "cell_type": "code",
   "execution_count": null,
   "metadata": {
    "colab": {
     "base_uri": "https://localhost:8080/",
     "height": 34
    },
    "colab_type": "code",
    "id": "DrWVpiGkgJZz",
    "outputId": "0ff2d1dc-e954-460d-d9ee-0671d7c9e060"
   },
   "outputs": [
    {
     "data": {
      "text/plain": [
       "1"
      ]
     },
     "execution_count": 17,
     "metadata": {
      "tags": []
     },
     "output_type": "execute_result"
    }
   ],
   "source": [
    "array1.ndim"
   ]
  },
  {
   "cell_type": "code",
   "execution_count": null,
   "metadata": {
    "colab": {
     "base_uri": "https://localhost:8080/",
     "height": 52
    },
    "colab_type": "code",
    "id": "LJhFJwkjgKou",
    "outputId": "bff24215-bb62-482b-a4a8-18cc254180f3"
   },
   "outputs": [
    {
     "data": {
      "text/plain": [
       "array([[1., 2., 3., 4.],\n",
       "       [5., 6., 7., 8.]])"
      ]
     },
     "execution_count": 200,
     "metadata": {
      "tags": []
     },
     "output_type": "execute_result"
    }
   ],
   "source": [
    "list3 = [[1, 2., 3, 4], [5, 6, 7, 8]]\n",
    "array3 = np.array(list3)\n",
    "array3"
   ]
  },
  {
   "cell_type": "code",
   "execution_count": null,
   "metadata": {
    "colab": {
     "base_uri": "https://localhost:8080/",
     "height": 34
    },
    "colab_type": "code",
    "id": "IXvDJSeRgTw-",
    "outputId": "3916650b-f885-4203-8db5-789b12a1992e"
   },
   "outputs": [
    {
     "data": {
      "text/plain": [
       "(2, (2, 4), dtype('float64'))"
      ]
     },
     "execution_count": 201,
     "metadata": {
      "tags": []
     },
     "output_type": "execute_result"
    }
   ],
   "source": [
    "array3.ndim,array3.shape,array3.dtype"
   ]
  },
  {
   "cell_type": "markdown",
   "metadata": {
    "colab_type": "text",
    "id": "mq4B11N1gjiB"
   },
   "source": [
    "## creating array using builtin function"
   ]
  },
  {
   "cell_type": "markdown",
   "metadata": {
    "colab_type": "text",
    "id": "DuofvgSchEP4"
   },
   "source": [
    " Type      Capacity\n",
    "\n",
    "   Int16 -- (-32,768 to +32,767)\n",
    "\n",
    "   Int32 -- (-2,147,483,648 to +2,147,483,647)\n",
    "\n",
    "   Int64 -- (-9,223,372,036,854,775,808 to +9,223,372,036,854,775,807)"
   ]
  },
  {
   "cell_type": "code",
   "execution_count": null,
   "metadata": {
    "colab": {
     "base_uri": "https://localhost:8080/",
     "height": 34
    },
    "colab_type": "code",
    "id": "ALSfl6gGg3TO",
    "outputId": "3c20195e-1205-4fc5-f114-2d3fe9ddffd0"
   },
   "outputs": [
    {
     "data": {
      "text/plain": [
       "array([0., 0., 0., 0., 0., 0., 0., 0., 0., 0.])"
      ]
     },
     "execution_count": 202,
     "metadata": {
      "tags": []
     },
     "output_type": "execute_result"
    }
   ],
   "source": [
    "np.zeros(10)"
   ]
  },
  {
   "cell_type": "code",
   "execution_count": null,
   "metadata": {
    "colab": {
     "base_uri": "https://localhost:8080/",
     "height": 34
    },
    "colab_type": "code",
    "id": "TSP2giQagmxu",
    "outputId": "8792c094-3f05-4b4f-e255-fc6608910f1d"
   },
   "outputs": [
    {
     "data": {
      "text/plain": [
       "array([0, 0, 0, 0, 0, 0, 0, 0, 0, 0], dtype=int32)"
      ]
     },
     "execution_count": 23,
     "metadata": {
      "tags": []
     },
     "output_type": "execute_result"
    }
   ],
   "source": [
    "np.zeros(10,dtype='int32')"
   ]
  },
  {
   "cell_type": "code",
   "execution_count": null,
   "metadata": {
    "colab": {
     "base_uri": "https://localhost:8080/",
     "height": 34
    },
    "colab_type": "code",
    "id": "9MBBcJgFgyYl",
    "outputId": "ef464a96-871b-4d16-d472-7a2bf7053cc6"
   },
   "outputs": [
    {
     "data": {
      "text/plain": [
       "array([0, 0, 0, 0, 0, 0, 0, 0, 0, 0])"
      ]
     },
     "execution_count": 25,
     "metadata": {
      "tags": []
     },
     "output_type": "execute_result"
    }
   ],
   "source": [
    "np.zeros(10,dtype=np.int64)"
   ]
  },
  {
   "cell_type": "code",
   "execution_count": null,
   "metadata": {
    "colab": {
     "base_uri": "https://localhost:8080/",
     "height": 70
    },
    "colab_type": "code",
    "id": "HKD-rkRagaAW",
    "outputId": "c37d1c0b-1717-42b6-b1cd-a0f3792eef90"
   },
   "outputs": [
    {
     "data": {
      "text/plain": [
       "array([[0., 0., 0., 0., 0., 0.],\n",
       "       [0., 0., 0., 0., 0., 0.],\n",
       "       [0., 0., 0., 0., 0., 0.]])"
      ]
     },
     "execution_count": 27,
     "metadata": {
      "tags": []
     },
     "output_type": "execute_result"
    }
   ],
   "source": [
    "np.zeros((3, 6))"
   ]
  },
  {
   "cell_type": "code",
   "execution_count": null,
   "metadata": {
    "colab": {
     "base_uri": "https://localhost:8080/",
     "height": 70
    },
    "colab_type": "code",
    "id": "sXan59LOgRok",
    "outputId": "8a05711c-1ad3-4896-e7bf-606812eb450e"
   },
   "outputs": [
    {
     "data": {
      "text/plain": [
       "array([[1., 1., 1., 1., 1., 1.],\n",
       "       [1., 1., 1., 1., 1., 1.],\n",
       "       [1., 1., 1., 1., 1., 1.]])"
      ]
     },
     "execution_count": 29,
     "metadata": {
      "tags": []
     },
     "output_type": "execute_result"
    }
   ],
   "source": [
    "np.ones((3, 6))\n"
   ]
  },
  {
   "cell_type": "code",
   "execution_count": null,
   "metadata": {
    "colab": {
     "base_uri": "https://localhost:8080/",
     "height": 87
    },
    "colab_type": "code",
    "id": "NEEbr90AgFH3",
    "outputId": "56814f59-5e6d-4d16-c9f5-c25a5e65fcfe"
   },
   "outputs": [
    {
     "data": {
      "text/plain": [
       "array([[1., 2.],\n",
       "       [3., 4.],\n",
       "       [5., 6.],\n",
       "       [7., 8.]])"
      ]
     },
     "execution_count": 205,
     "metadata": {
      "tags": []
     },
     "output_type": "execute_result"
    }
   ],
   "source": [
    "np.empty((4,2))\n"
   ]
  },
  {
   "cell_type": "code",
   "execution_count": null,
   "metadata": {
    "colab": {
     "base_uri": "https://localhost:8080/",
     "height": 52
    },
    "colab_type": "code",
    "id": "TetpsjGShRu9",
    "outputId": "efd74a9b-2e30-4a86-d7b3-cdd289a60c8b"
   },
   "outputs": [
    {
     "data": {
      "text/plain": [
       "array([[1., 2., 3., 4.],\n",
       "       [5., 6., 7., 8.]])"
      ]
     },
     "execution_count": 215,
     "metadata": {
      "tags": []
     },
     "output_type": "execute_result"
    }
   ],
   "source": [
    "array3"
   ]
  },
  {
   "cell_type": "code",
   "execution_count": null,
   "metadata": {
    "colab": {
     "base_uri": "https://localhost:8080/",
     "height": 34
    },
    "colab_type": "code",
    "id": "k7Iw4r9m30et",
    "outputId": "0c38cabc-9380-49be-d6ce-092467d6cd89"
   },
   "outputs": [
    {
     "data": {
      "text/plain": [
       "(2, 4)"
      ]
     },
     "execution_count": 216,
     "metadata": {
      "tags": []
     },
     "output_type": "execute_result"
    }
   ],
   "source": [
    "array3.shape"
   ]
  },
  {
   "cell_type": "code",
   "execution_count": null,
   "metadata": {
    "colab": {
     "base_uri": "https://localhost:8080/",
     "height": 52
    },
    "colab_type": "code",
    "id": "ap-Rio9lhnl7",
    "outputId": "0d026a9b-bf9e-4938-cb3f-824c0d3b18cd"
   },
   "outputs": [
    {
     "data": {
      "text/plain": [
       "array([[1., 1., 1., 1.],\n",
       "       [1., 1., 1., 1.]])"
      ]
     },
     "execution_count": 207,
     "metadata": {
      "tags": []
     },
     "output_type": "execute_result"
    }
   ],
   "source": [
    "np.ones_like(array3)"
   ]
  },
  {
   "cell_type": "code",
   "execution_count": null,
   "metadata": {
    "colab": {
     "base_uri": "https://localhost:8080/",
     "height": 52
    },
    "colab_type": "code",
    "id": "l9BfV7Tu3VSU",
    "outputId": "00fa0ebb-7cef-473a-ae5a-11c3b591c281"
   },
   "outputs": [
    {
     "data": {
      "text/plain": [
       "array([[1., 1., 1., 1.],\n",
       "       [1., 1., 1., 1.]])"
      ]
     },
     "execution_count": 209,
     "metadata": {
      "tags": []
     },
     "output_type": "execute_result"
    }
   ],
   "source": [
    "np.ones(array3.shape)"
   ]
  },
  {
   "cell_type": "code",
   "execution_count": null,
   "metadata": {
    "colab": {
     "base_uri": "https://localhost:8080/",
     "height": 52
    },
    "colab_type": "code",
    "id": "bd-9tJMAhpxv",
    "outputId": "6c325f32-c851-425a-e380-e015c2270075"
   },
   "outputs": [
    {
     "data": {
      "text/plain": [
       "array([[0., 0., 0., 0.],\n",
       "       [0., 0., 0., 0.]])"
      ]
     },
     "execution_count": 35,
     "metadata": {
      "tags": []
     },
     "output_type": "execute_result"
    }
   ],
   "source": [
    "np.zeros_like(array3)"
   ]
  },
  {
   "cell_type": "code",
   "execution_count": null,
   "metadata": {
    "colab": {
     "base_uri": "https://localhost:8080/",
     "height": 52
    },
    "colab_type": "code",
    "id": "Mt-tEAq6hsW6",
    "outputId": "e7a25d98-ae1e-4734-e09e-5d3cb1383e30"
   },
   "outputs": [
    {
     "data": {
      "text/plain": [
       "array([[0., 0., 0., 0.],\n",
       "       [0., 0., 0., 0.]])"
      ]
     },
     "execution_count": 36,
     "metadata": {
      "tags": []
     },
     "output_type": "execute_result"
    }
   ],
   "source": [
    "np.empty_like(array3) #arbitrary data"
   ]
  },
  {
   "cell_type": "code",
   "execution_count": null,
   "metadata": {
    "colab": {
     "base_uri": "https://localhost:8080/",
     "height": 52
    },
    "colab_type": "code",
    "id": "RFv5n4bZ3iRo",
    "outputId": "28ea97fb-1f62-42fe-dbcd-aa81a2220b64"
   },
   "outputs": [
    {
     "data": {
      "text/plain": [
       "array([[1., 2., 3., 4.],\n",
       "       [5., 6., 7., 8.]])"
      ]
     },
     "execution_count": 210,
     "metadata": {
      "tags": []
     },
     "output_type": "execute_result"
    }
   ],
   "source": [
    "array3"
   ]
  },
  {
   "cell_type": "code",
   "execution_count": null,
   "metadata": {
    "colab": {
     "base_uri": "https://localhost:8080/",
     "height": 52
    },
    "colab_type": "code",
    "id": "87f51xtqhtyP",
    "outputId": "411e402a-3316-4ea9-a5df-0bf13b0f693f"
   },
   "outputs": [
    {
     "data": {
      "text/plain": [
       "array([[0., 0., 0., 0.],\n",
       "       [0., 0., 0., 0.]])"
      ]
     },
     "execution_count": 214,
     "metadata": {
      "tags": []
     },
     "output_type": "execute_result"
    }
   ],
   "source": [
    "np.full_like(array3,0) #np."
   ]
  },
  {
   "cell_type": "code",
   "execution_count": null,
   "metadata": {
    "colab": {
     "base_uri": "https://localhost:8080/",
     "height": 70
    },
    "colab_type": "code",
    "id": "GWLJJR7KhxoO",
    "outputId": "876e9e62-8678-40f1-f68e-5299e7cc81c1"
   },
   "outputs": [
    {
     "data": {
      "text/plain": [
       "array([[3, 3, 3, 3, 3],\n",
       "       [3, 3, 3, 3, 3],\n",
       "       [3, 3, 3, 3, 3]])"
      ]
     },
     "execution_count": 40,
     "metadata": {
      "tags": []
     },
     "output_type": "execute_result"
    }
   ],
   "source": [
    "np.full(shape=(3,5),fill_value=3)"
   ]
  },
  {
   "cell_type": "code",
   "execution_count": null,
   "metadata": {
    "colab": {
     "base_uri": "https://localhost:8080/",
     "height": 34
    },
    "colab_type": "code",
    "id": "vTgZxem1h7Oo",
    "outputId": "1592c184-4da1-47b6-a921-5a4030e9c3d2"
   },
   "outputs": [
    {
     "data": {
      "text/plain": [
       "array([ 0,  1,  2,  3,  4,  5,  6,  7,  8,  9, 10, 11, 12, 13, 14])"
      ]
     },
     "execution_count": 217,
     "metadata": {
      "tags": []
     },
     "output_type": "execute_result"
    }
   ],
   "source": [
    "np.arange(15) #start, stop, step"
   ]
  },
  {
   "cell_type": "code",
   "execution_count": null,
   "metadata": {
    "colab": {
     "base_uri": "https://localhost:8080/",
     "height": 34
    },
    "colab_type": "code",
    "id": "GhYHBYJ64l7t",
    "outputId": "05bacf8e-aaed-44b0-9852-e0f937b61e46"
   },
   "outputs": [
    {
     "data": {
      "text/plain": [
       "array([ 5,  6,  7,  8,  9, 10, 11, 12, 13, 14])"
      ]
     },
     "execution_count": 218,
     "metadata": {
      "tags": []
     },
     "output_type": "execute_result"
    }
   ],
   "source": [
    "np.arange(5,15)"
   ]
  },
  {
   "cell_type": "code",
   "execution_count": null,
   "metadata": {
    "colab": {
     "base_uri": "https://localhost:8080/",
     "height": 34
    },
    "colab_type": "code",
    "id": "OFpgWlTaiMzi",
    "outputId": "b012e7d6-d090-4c86-de38-f78ea9c4f338"
   },
   "outputs": [
    {
     "data": {
      "text/plain": [
       "array([ 5,  8, 11, 14])"
      ]
     },
     "execution_count": 46,
     "metadata": {
      "tags": []
     },
     "output_type": "execute_result"
    }
   ],
   "source": [
    "np.arange(5,15,3) "
   ]
  },
  {
   "cell_type": "code",
   "execution_count": null,
   "metadata": {
    "colab": {},
    "colab_type": "code",
    "id": "QLPKDA4R4vVF"
   },
   "outputs": [],
   "source": []
  },
  {
   "cell_type": "code",
   "execution_count": null,
   "metadata": {
    "colab": {
     "base_uri": "https://localhost:8080/",
     "height": 34
    },
    "colab_type": "code",
    "id": "cNoLw9cFh_yr",
    "outputId": "6fdbfff5-f90f-4040-b308-4028b7752505"
   },
   "outputs": [
    {
     "data": {
      "text/plain": [
       "array([ 0,  1,  2,  3,  4,  5,  6,  7,  8,  9, 10, 11, 12, 13, 14])"
      ]
     },
     "execution_count": 44,
     "metadata": {
      "tags": []
     },
     "output_type": "execute_result"
    }
   ],
   "source": [
    "np.array(list(range(15)))\n"
   ]
  },
  {
   "cell_type": "markdown",
   "metadata": {
    "colab_type": "text",
    "id": "y-WXwm0QiVOl"
   },
   "source": [
    "# changing datatype astype"
   ]
  },
  {
   "cell_type": "code",
   "execution_count": null,
   "metadata": {
    "colab": {
     "base_uri": "https://localhost:8080/",
     "height": 52
    },
    "colab_type": "code",
    "id": "9Pbi_o5JiBVP",
    "outputId": "be923f46-a7b8-4a45-80e9-d4d2130a43cb"
   },
   "outputs": [
    {
     "data": {
      "text/plain": [
       "array([[1.2 , 1.4 , 1.66, 1.8 , 1.5 ],\n",
       "       [2.2 , 3.3 , 4.4 , 5.5 , 6.6 ]])"
      ]
     },
     "execution_count": 219,
     "metadata": {
      "tags": []
     },
     "output_type": "execute_result"
    }
   ],
   "source": [
    "array4=np.array([[1.2,1.4,1.66,1.8,1.5],[2.2,3.3,4.4,5.5,6.6]])\n",
    "array4"
   ]
  },
  {
   "cell_type": "code",
   "execution_count": null,
   "metadata": {
    "colab": {
     "base_uri": "https://localhost:8080/",
     "height": 34
    },
    "colab_type": "code",
    "id": "D-5ghG_ui_2b",
    "outputId": "297bc02a-09f6-43e5-8899-5860dc7b6621"
   },
   "outputs": [
    {
     "data": {
      "text/plain": [
       "dtype('float64')"
      ]
     },
     "execution_count": 220,
     "metadata": {
      "tags": []
     },
     "output_type": "execute_result"
    }
   ],
   "source": [
    "array4.dtype"
   ]
  },
  {
   "cell_type": "code",
   "execution_count": null,
   "metadata": {
    "colab": {
     "base_uri": "https://localhost:8080/",
     "height": 52
    },
    "colab_type": "code",
    "id": "vyQ9RW4aizEZ",
    "outputId": "8a27e0f8-4bed-4b8c-8116-6b8768bcb7b2"
   },
   "outputs": [
    {
     "data": {
      "text/plain": [
       "array([[1, 1, 1, 1, 1],\n",
       "       [2, 3, 4, 5, 6]])"
      ]
     },
     "execution_count": 221,
     "metadata": {
      "tags": []
     },
     "output_type": "execute_result"
    }
   ],
   "source": [
    "array4.astype(int)"
   ]
  },
  {
   "cell_type": "code",
   "execution_count": null,
   "metadata": {
    "colab": {
     "base_uri": "https://localhost:8080/",
     "height": 52
    },
    "colab_type": "code",
    "id": "VWy0eaUCi9OX",
    "outputId": "3c7182b0-1b9b-4598-91df-53b849bf822e"
   },
   "outputs": [
    {
     "data": {
      "text/plain": [
       "array([[1.2 , 1.4 , 1.66, 1.8 , 1.5 ],\n",
       "       [2.2 , 3.3 , 4.4 , 5.5 , 6.6 ]], dtype=float32)"
      ]
     },
     "execution_count": 222,
     "metadata": {
      "tags": []
     },
     "output_type": "execute_result"
    }
   ],
   "source": [
    "array4.astype('float32')"
   ]
  },
  {
   "cell_type": "code",
   "execution_count": null,
   "metadata": {
    "colab": {
     "base_uri": "https://localhost:8080/",
     "height": 52
    },
    "colab_type": "code",
    "id": "wdBnLJ8wjCjd",
    "outputId": "245c2a75-4f6e-43e6-f5b8-a13159e018c1"
   },
   "outputs": [
    {
     "data": {
      "text/plain": [
       "array([[b'1.2', b'1.4', b'1.66', b'1.8', b'1.5'],\n",
       "       [b'2.2', b'3.3', b'4.4', b'5.5', b'6.6']], dtype='|S32')"
      ]
     },
     "execution_count": 223,
     "metadata": {
      "tags": []
     },
     "output_type": "execute_result"
    }
   ],
   "source": [
    "array4.astype(np.string_)"
   ]
  },
  {
   "cell_type": "code",
   "execution_count": null,
   "metadata": {
    "colab": {
     "base_uri": "https://localhost:8080/",
     "height": 34
    },
    "colab_type": "code",
    "id": "C2z_8JFQjKe4",
    "outputId": "e07914e1-366a-4130-ad9f-6bd2d377059a"
   },
   "outputs": [
    {
     "data": {
      "text/plain": [
       "array([b'1.25', b'-9.6', b'42'], dtype='|S4')"
      ]
     },
     "execution_count": 224,
     "metadata": {
      "tags": []
     },
     "output_type": "execute_result"
    }
   ],
   "source": [
    "array5 = np.array(['1.25', '-9.6', '42'], dtype=np.string_)\n",
    "array5"
   ]
  },
  {
   "cell_type": "code",
   "execution_count": null,
   "metadata": {
    "colab": {
     "base_uri": "https://localhost:8080/",
     "height": 34
    },
    "colab_type": "code",
    "id": "7iRvJ1FbjQK9",
    "outputId": "742a6f27-b5a7-4cbe-b753-d15242bf78a2"
   },
   "outputs": [
    {
     "data": {
      "text/plain": [
       "array([ 1.25, -9.6 , 42.  ])"
      ]
     },
     "execution_count": 57,
     "metadata": {
      "tags": []
     },
     "output_type": "execute_result"
    }
   ],
   "source": [
    "array5.astype(float)"
   ]
  },
  {
   "cell_type": "code",
   "execution_count": null,
   "metadata": {
    "colab": {
     "base_uri": "https://localhost:8080/",
     "height": 34
    },
    "colab_type": "code",
    "id": "S9mh3mgdjR7j",
    "outputId": "38ad7e79-d771-4dd2-bba8-01677faceefa"
   },
   "outputs": [
    {
     "data": {
      "text/plain": [
       "array([1, 1, 1, 1, 1, 1, 1, 1], dtype=uint32)"
      ]
     },
     "execution_count": 59,
     "metadata": {
      "tags": []
     },
     "output_type": "execute_result"
    }
   ],
   "source": [
    " np.ones(8, dtype='uint32')"
   ]
  },
  {
   "cell_type": "code",
   "execution_count": null,
   "metadata": {
    "colab": {
     "base_uri": "https://localhost:8080/",
     "height": 52
    },
    "colab_type": "code",
    "id": "2JqpjNYZjWtE",
    "outputId": "0b231b87-6b11-4043-8ce9-f28c5c623333"
   },
   "outputs": [
    {
     "data": {
      "text/plain": [
       "array([         1, 4294967295,          1, 4294967295,          1,\n",
       "                1], dtype=uint32)"
      ]
     },
     "execution_count": 225,
     "metadata": {
      "tags": []
     },
     "output_type": "execute_result"
    }
   ],
   "source": [
    "np.array([1,-1,1,-1,1,1],dtype='uint32')"
   ]
  },
  {
   "cell_type": "markdown",
   "metadata": {
    "colab_type": "text",
    "id": "NCQw5xYnkB-J"
   },
   "source": [
    "uint32 is an unsigned integer with 32 bit which means that you can represent 2^32 numbers (0-4294967295).  \n",
    "However, in order to represent negative numbers, one bit of the 32 bits is reserved to indicate positive or negative number."
   ]
  },
  {
   "cell_type": "code",
   "execution_count": null,
   "metadata": {
    "colab": {
     "base_uri": "https://localhost:8080/",
     "height": 53
    },
    "colab_type": "code",
    "id": "mNTmjqhZ56L7",
    "outputId": "dd126ada-a835-4d0b-b40d-ec6f44e19f46"
   },
   "outputs": [
    {
     "name": "stdout",
     "output_type": "stream",
     "text": [
      "1\n"
     ]
    },
    {
     "data": {
      "application/vnd.google.colaboratory.intrinsic": {
       "type": "string"
      },
      "text/plain": [
       "'1'"
      ]
     },
     "execution_count": 227,
     "metadata": {
      "tags": []
     },
     "output_type": "execute_result"
    }
   ],
   "source": [
    "input()"
   ]
  },
  {
   "cell_type": "code",
   "execution_count": null,
   "metadata": {
    "colab": {
     "base_uri": "https://localhost:8080/",
     "height": 70
    },
    "colab_type": "code",
    "id": "FJcSDoQr6Hf2",
    "outputId": "73a549f6-034e-4cf9-9c7a-190393d1702d"
   },
   "outputs": [
    {
     "name": "stdout",
     "output_type": "stream",
     "text": [
      "1\n",
      "2\n",
      "4\n"
     ]
    }
   ],
   "source": [
    "li=[]\n",
    "for i in range(3):\n",
    "  li.append(int(input()))"
   ]
  },
  {
   "cell_type": "code",
   "execution_count": null,
   "metadata": {
    "colab": {
     "base_uri": "https://localhost:8080/",
     "height": 34
    },
    "colab_type": "code",
    "id": "FtfTlQb06Xoq",
    "outputId": "83644055-5696-4b3c-97c0-dcb526fa79e2"
   },
   "outputs": [
    {
     "data": {
      "text/plain": [
       "[1, 2, 4]"
      ]
     },
     "execution_count": 230,
     "metadata": {
      "tags": []
     },
     "output_type": "execute_result"
    }
   ],
   "source": [
    "li"
   ]
  },
  {
   "cell_type": "code",
   "execution_count": null,
   "metadata": {
    "colab": {
     "base_uri": "https://localhost:8080/",
     "height": 34
    },
    "colab_type": "code",
    "id": "DBiboISC6YcY",
    "outputId": "6ddc8814-6a15-4509-e210-4f3f7d0227df"
   },
   "outputs": [
    {
     "data": {
      "text/plain": [
       "array([1, 2, 4])"
      ]
     },
     "execution_count": 231,
     "metadata": {
      "tags": []
     },
     "output_type": "execute_result"
    }
   ],
   "source": [
    "np.array(li)"
   ]
  },
  {
   "cell_type": "markdown",
   "metadata": {
    "colab_type": "text",
    "id": "RHU50m7ukSte"
   },
   "source": [
    "#Arithmetic with NumPy Arrays\n"
   ]
  },
  {
   "cell_type": "code",
   "execution_count": null,
   "metadata": {
    "colab": {
     "base_uri": "https://localhost:8080/",
     "height": 52
    },
    "colab_type": "code",
    "id": "ftW0mcMAkTza",
    "outputId": "f9a550b0-8f30-4ad9-9146-0825c2e5f949"
   },
   "outputs": [
    {
     "data": {
      "text/plain": [
       "array([[0., 0., 0.],\n",
       "       [0., 0., 0.]])"
      ]
     },
     "execution_count": 234,
     "metadata": {
      "tags": []
     },
     "output_type": "execute_result"
    }
   ],
   "source": [
    "arr = np.array([[1., 2., 3.], [4., 5., 6.]])\n",
    "arr\n",
    "arr * arr\n",
    "arr - arr"
   ]
  },
  {
   "cell_type": "code",
   "execution_count": null,
   "metadata": {
    "colab": {
     "base_uri": "https://localhost:8080/",
     "height": 52
    },
    "colab_type": "code",
    "id": "LK99SByPkVRb",
    "outputId": "9c56ff4c-860f-4690-9a21-0c68706dea19"
   },
   "outputs": [
    {
     "data": {
      "text/plain": [
       "array([[1.        , 1.41421356, 1.73205081],\n",
       "       [2.        , 2.23606798, 2.44948974]])"
      ]
     },
     "execution_count": 235,
     "metadata": {
      "tags": []
     },
     "output_type": "execute_result"
    }
   ],
   "source": [
    "1 / arr\n",
    "arr ** 0.5"
   ]
  },
  {
   "cell_type": "code",
   "execution_count": null,
   "metadata": {
    "colab": {
     "base_uri": "https://localhost:8080/",
     "height": 52
    },
    "colab_type": "code",
    "id": "T6RbN7EFkZOs",
    "outputId": "023d89f9-d062-4d97-dc6e-f82e0adca1bc"
   },
   "outputs": [
    {
     "data": {
      "text/plain": [
       "array([[ 0.,  4.,  1.],\n",
       "       [ 7.,  2., 12.]])"
      ]
     },
     "execution_count": 236,
     "metadata": {
      "tags": []
     },
     "output_type": "execute_result"
    }
   ],
   "source": [
    "arr2 = np.array([[0., 4., 1.], [7., 2., 12.]])\n",
    "arr2\n"
   ]
  },
  {
   "cell_type": "code",
   "execution_count": null,
   "metadata": {
    "colab": {},
    "colab_type": "code",
    "id": "5aQkK_egkhcT"
   },
   "outputs": [],
   "source": [
    "mask=arr2 > 4"
   ]
  },
  {
   "cell_type": "code",
   "execution_count": null,
   "metadata": {
    "colab": {
     "base_uri": "https://localhost:8080/",
     "height": 34
    },
    "colab_type": "code",
    "id": "tXZR0jg1kbtm",
    "outputId": "e01df588-97f5-485f-df87-3cbbdc3c4195"
   },
   "outputs": [
    {
     "data": {
      "text/plain": [
       "array([ 7., 12.])"
      ]
     },
     "execution_count": 240,
     "metadata": {
      "tags": []
     },
     "output_type": "execute_result"
    }
   ],
   "source": [
    "arr2[mask]"
   ]
  },
  {
   "cell_type": "markdown",
   "metadata": {
    "colab_type": "text",
    "id": "1uSXLPJMkuMr"
   },
   "source": [
    "#Basic Indexing and Slicing"
   ]
  },
  {
   "cell_type": "code",
   "execution_count": null,
   "metadata": {
    "colab": {
     "base_uri": "https://localhost:8080/",
     "height": 34
    },
    "colab_type": "code",
    "id": "wgg2Y_jqkrD0",
    "outputId": "2baa65b2-db24-49db-a234-ed26f2a72b82"
   },
   "outputs": [
    {
     "data": {
      "text/plain": [
       "array([10, 11, 12, 13, 14, 15, 16, 17, 18, 19])"
      ]
     },
     "execution_count": 246,
     "metadata": {
      "tags": []
     },
     "output_type": "execute_result"
    }
   ],
   "source": [
    "arr = np.arange(10,20)\n",
    "arr\n"
   ]
  },
  {
   "cell_type": "code",
   "execution_count": null,
   "metadata": {
    "colab": {
     "base_uri": "https://localhost:8080/",
     "height": 34
    },
    "colab_type": "code",
    "id": "wft-k5--kwl9",
    "outputId": "7802f2f0-76fd-4922-a942-9dbeb7cf3220"
   },
   "outputs": [
    {
     "data": {
      "text/plain": [
       "15"
      ]
     },
     "execution_count": 247,
     "metadata": {
      "tags": []
     },
     "output_type": "execute_result"
    }
   ],
   "source": [
    "arr[5]\n"
   ]
  },
  {
   "cell_type": "code",
   "execution_count": null,
   "metadata": {
    "colab": {
     "base_uri": "https://localhost:8080/",
     "height": 34
    },
    "colab_type": "code",
    "id": "ivqqfFzkkfxl",
    "outputId": "37b1f353-193f-40c8-e116-ad86688f2a0b"
   },
   "outputs": [
    {
     "data": {
      "text/plain": [
       "array([15, 16, 17])"
      ]
     },
     "execution_count": 248,
     "metadata": {
      "tags": []
     },
     "output_type": "execute_result"
    }
   ],
   "source": [
    "arr[5:8]"
   ]
  },
  {
   "cell_type": "code",
   "execution_count": null,
   "metadata": {
    "colab": {
     "base_uri": "https://localhost:8080/",
     "height": 34
    },
    "colab_type": "code",
    "id": "itLWG1g_kyOE",
    "outputId": "59b455ce-8f3b-444e-db98-779dc8429112"
   },
   "outputs": [
    {
     "data": {
      "text/plain": [
       "array([10, 11, 12, 13, 14, 12, 12, 12, 18, 19])"
      ]
     },
     "execution_count": 249,
     "metadata": {
      "tags": []
     },
     "output_type": "execute_result"
    }
   ],
   "source": [
    "arr[5:8] = 12\n",
    "arr"
   ]
  },
  {
   "cell_type": "code",
   "execution_count": null,
   "metadata": {
    "colab": {
     "base_uri": "https://localhost:8080/",
     "height": 34
    },
    "colab_type": "code",
    "id": "Cji4r7dXk1b9",
    "outputId": "bb1c055c-c7a0-4336-bfbe-ffd7793e8845"
   },
   "outputs": [
    {
     "data": {
      "text/plain": [
       "array([ 0,  1,  2,  3,  4, 12, 12, 12,  8,  9])"
      ]
     },
     "execution_count": 77,
     "metadata": {
      "tags": []
     },
     "output_type": "execute_result"
    }
   ],
   "source": [
    "arr[:,]"
   ]
  },
  {
   "cell_type": "code",
   "execution_count": null,
   "metadata": {
    "colab": {
     "base_uri": "https://localhost:8080/",
     "height": 70
    },
    "colab_type": "code",
    "id": "BZr6FOGmlBcR",
    "outputId": "f5e096b7-44a1-4563-cf23-67c7767d6be5"
   },
   "outputs": [
    {
     "data": {
      "text/plain": [
       "array([[1, 2, 3],\n",
       "       [4, 5, 6],\n",
       "       [7, 8, 9]])"
      ]
     },
     "execution_count": 251,
     "metadata": {
      "tags": []
     },
     "output_type": "execute_result"
    }
   ],
   "source": [
    "arr2d = np.array([[1, 2, 3], [4, 5, 6], [7, 8, 9]])\n",
    "arr2d"
   ]
  },
  {
   "cell_type": "code",
   "execution_count": null,
   "metadata": {
    "colab": {
     "base_uri": "https://localhost:8080/",
     "height": 70
    },
    "colab_type": "code",
    "id": "AxcnafdDlDV7",
    "outputId": "8187688a-01dc-464b-eb3d-d85634e0bbd6"
   },
   "outputs": [
    {
     "data": {
      "text/plain": [
       "array([[1, 2, 3],\n",
       "       [4, 5, 6],\n",
       "       [7, 8, 9]])"
      ]
     },
     "execution_count": 79,
     "metadata": {
      "tags": []
     },
     "output_type": "execute_result"
    }
   ],
   "source": [
    "arr2d[:]"
   ]
  },
  {
   "cell_type": "code",
   "execution_count": null,
   "metadata": {
    "colab": {
     "base_uri": "https://localhost:8080/",
     "height": 34
    },
    "colab_type": "code",
    "id": "AvDUhFC0lF2r",
    "outputId": "51d19889-7afe-4dbb-fd92-989fe3968e6f"
   },
   "outputs": [
    {
     "data": {
      "text/plain": [
       "array([1, 4, 7])"
      ]
     },
     "execution_count": 252,
     "metadata": {
      "tags": []
     },
     "output_type": "execute_result"
    }
   ],
   "source": [
    "arr2d[:,0] #rows, columns :, 0"
   ]
  },
  {
   "cell_type": "code",
   "execution_count": null,
   "metadata": {
    "colab": {
     "base_uri": "https://localhost:8080/",
     "height": 34
    },
    "colab_type": "code",
    "id": "sik_YoRy8ff6",
    "outputId": "1c1261b2-7a61-47bb-bd3f-67529042579e"
   },
   "outputs": [
    {
     "data": {
      "text/plain": [
       "array([3, 6, 9])"
      ]
     },
     "execution_count": 253,
     "metadata": {
      "tags": []
     },
     "output_type": "execute_result"
    }
   ],
   "source": [
    "arr2d[:,2] # all rows, columns :, 2"
   ]
  },
  {
   "cell_type": "code",
   "execution_count": null,
   "metadata": {
    "colab": {
     "base_uri": "https://localhost:8080/",
     "height": 52
    },
    "colab_type": "code",
    "id": "-POvRg_m8m4p",
    "outputId": "3e0dc627-6609-43b2-a0cd-808b8342b574"
   },
   "outputs": [
    {
     "data": {
      "text/plain": [
       "array([[1, 2, 3],\n",
       "       [4, 5, 6]])"
      ]
     },
     "execution_count": 254,
     "metadata": {
      "tags": []
     },
     "output_type": "execute_result"
    }
   ],
   "source": [
    "arr2d[0:2,]"
   ]
  },
  {
   "cell_type": "code",
   "execution_count": null,
   "metadata": {
    "colab": {
     "base_uri": "https://localhost:8080/",
     "height": 52
    },
    "colab_type": "code",
    "id": "2_lmDbnr8vBO",
    "outputId": "bb93699b-97e2-4256-e53f-2adadfbe3be5"
   },
   "outputs": [
    {
     "data": {
      "text/plain": [
       "array([[2, 3],\n",
       "       [5, 6]])"
      ]
     },
     "execution_count": 256,
     "metadata": {
      "tags": []
     },
     "output_type": "execute_result"
    }
   ],
   "source": [
    "arr2d[0:2,1:3]"
   ]
  },
  {
   "cell_type": "code",
   "execution_count": null,
   "metadata": {
    "colab": {
     "base_uri": "https://localhost:8080/",
     "height": 34
    },
    "colab_type": "code",
    "id": "VacsIK6flIKf",
    "outputId": "ad08f575-7a14-4f6f-8f1d-15a2cbef7090"
   },
   "outputs": [
    {
     "data": {
      "text/plain": [
       "array([1, 2, 3])"
      ]
     },
     "execution_count": 81,
     "metadata": {
      "tags": []
     },
     "output_type": "execute_result"
    }
   ],
   "source": [
    "arr2d[0,:]"
   ]
  },
  {
   "cell_type": "code",
   "execution_count": null,
   "metadata": {
    "colab": {
     "base_uri": "https://localhost:8080/",
     "height": 34
    },
    "colab_type": "code",
    "id": "lZ90RHE8lKph",
    "outputId": "76cd0b93-8357-4486-dd73-2982c0f8b221"
   },
   "outputs": [
    {
     "data": {
      "text/plain": [
       "9"
      ]
     },
     "execution_count": 257,
     "metadata": {
      "tags": []
     },
     "output_type": "execute_result"
    }
   ],
   "source": [
    "arr2d[-1,-1]"
   ]
  },
  {
   "cell_type": "code",
   "execution_count": null,
   "metadata": {
    "colab": {},
    "colab_type": "code",
    "id": "aINQeA2R9Mcx"
   },
   "outputs": [],
   "source": [
    "arr2d[10:-10,10:-10]"
   ]
  },
  {
   "cell_type": "code",
   "execution_count": null,
   "metadata": {
    "colab": {},
    "colab_type": "code",
    "id": "BT63Ktrx9qDm"
   },
   "outputs": [],
   "source": [
    "arr=np.random.randn(20,20)"
   ]
  },
  {
   "cell_type": "code",
   "execution_count": null,
   "metadata": {
    "colab": {},
    "colab_type": "code",
    "id": "ZCuJojMs-Ko-"
   },
   "outputs": [],
   "source": [
    "array=np.random.randint(low=5,high=10,size=(10,10))"
   ]
  },
  {
   "cell_type": "code",
   "execution_count": null,
   "metadata": {
    "colab": {
     "base_uri": "https://localhost:8080/",
     "height": 193
    },
    "colab_type": "code",
    "id": "nQr1D4i0-Wdy",
    "outputId": "7c007a74-927a-4c23-d9c8-34eea2f49ca6"
   },
   "outputs": [
    {
     "data": {
      "text/plain": [
       "array([[7, 8, 8, 7, 9, 8, 8, 5, 6, 6],\n",
       "       [7, 5, 8, 8, 6, 7, 7, 9, 9, 7],\n",
       "       [6, 5, 8, 8, 7, 7, 6, 8, 5, 6],\n",
       "       [5, 6, 5, 9, 9, 6, 8, 9, 9, 9],\n",
       "       [9, 7, 7, 6, 9, 5, 6, 5, 6, 5],\n",
       "       [7, 6, 9, 5, 8, 7, 5, 7, 8, 8],\n",
       "       [7, 6, 5, 6, 9, 6, 8, 9, 5, 5],\n",
       "       [6, 6, 7, 8, 6, 8, 7, 9, 5, 7],\n",
       "       [6, 5, 8, 6, 9, 7, 9, 5, 5, 7],\n",
       "       [6, 5, 7, 9, 9, 6, 7, 7, 8, 5]])"
      ]
     },
     "execution_count": 265,
     "metadata": {
      "tags": []
     },
     "output_type": "execute_result"
    }
   ],
   "source": [
    "array"
   ]
  },
  {
   "cell_type": "code",
   "execution_count": null,
   "metadata": {
    "colab": {
     "base_uri": "https://localhost:8080/",
     "height": 34
    },
    "colab_type": "code",
    "id": "-iphexCQ94zM",
    "outputId": "8c17849b-adc3-437b-d56c-42b89c1b494e"
   },
   "outputs": [
    {
     "data": {
      "text/plain": [
       "(5, 6)"
      ]
     },
     "execution_count": 269,
     "metadata": {
      "tags": []
     },
     "output_type": "execute_result"
    }
   ],
   "source": [
    "array[2:-3,0:-4].shape"
   ]
  },
  {
   "cell_type": "code",
   "execution_count": null,
   "metadata": {
    "colab": {
     "base_uri": "https://localhost:8080/",
     "height": 138
    },
    "colab_type": "code",
    "id": "xvr2LBmUlL-r",
    "outputId": "33cffefe-6841-4220-d1a8-efa02f8a9f27"
   },
   "outputs": [
    {
     "data": {
      "text/plain": [
       "array([[[ 1,  2,  3],\n",
       "        [ 1,  2,  3],\n",
       "        [ 4,  5,  6]],\n",
       "\n",
       "       [[ 7,  8,  9],\n",
       "        [ 1,  2,  3],\n",
       "        [10, 11, 12]]])"
      ]
     },
     "execution_count": 273,
     "metadata": {
      "tags": []
     },
     "output_type": "execute_result"
    }
   ],
   "source": [
    "arr3d = np.array([[[1, 2, 3], [1, 2, 3],[4, 5, 6]], [[7, 8, 9],[1, 2, 3], [10, 11, 12]]])\n",
    "arr3d"
   ]
  },
  {
   "cell_type": "code",
   "execution_count": null,
   "metadata": {
    "colab": {
     "base_uri": "https://localhost:8080/",
     "height": 34
    },
    "colab_type": "code",
    "id": "0-koUVtQ-yID",
    "outputId": "cc5d2d87-4b6c-4f4c-fcdd-e485fdfd657d"
   },
   "outputs": [
    {
     "data": {
      "text/plain": [
       "(2, 3, 3)"
      ]
     },
     "execution_count": 274,
     "metadata": {
      "tags": []
     },
     "output_type": "execute_result"
    }
   ],
   "source": [
    "arr3d.shape"
   ]
  },
  {
   "cell_type": "code",
   "execution_count": null,
   "metadata": {
    "colab": {
     "base_uri": "https://localhost:8080/",
     "height": 69
    },
    "colab_type": "code",
    "id": "uSHycnI8-n_w",
    "outputId": "253ff5eb-520e-45e4-b5ac-92ab3c595583"
   },
   "outputs": [
    {
     "data": {
      "text/plain": [
       "array([[[1, 2, 3]],\n",
       "\n",
       "       [[1, 2, 3]]])"
      ]
     },
     "execution_count": 275,
     "metadata": {
      "tags": []
     },
     "output_type": "execute_result"
    }
   ],
   "source": [
    "arr3d[:,1:2,:]"
   ]
  },
  {
   "cell_type": "code",
   "execution_count": null,
   "metadata": {
    "colab": {},
    "colab_type": "code",
    "id": "4_30eqZ1_g1k"
   },
   "outputs": [],
   "source": [
    "import cv2\n",
    "import matplotlib.pyplot as plt\n"
   ]
  },
  {
   "cell_type": "code",
   "execution_count": null,
   "metadata": {
    "colab": {
     "base_uri": "https://localhost:8080/",
     "height": 247
    },
    "colab_type": "code",
    "id": "JcpTx1LD_i8c",
    "outputId": "0797d119-ed85-4a72-c9b1-8a6e5c98983c"
   },
   "outputs": [
    {
     "data": {
      "text/plain": [
       "<matplotlib.image.AxesImage at 0x7fee1463c5c0>"
      ]
     },
     "execution_count": 281,
     "metadata": {
      "tags": []
     },
     "output_type": "execute_result"
    },
    {
     "data": {
      "image/png": "[encoded data removed]",
      "text/plain": [
       "<Figure size 432x288 with 1 Axes>"
      ]
     },
     "metadata": {
      "needs_background": "light",
      "tags": []
     },
     "output_type": "display_data"
    }
   ],
   "source": [
    "img=cv2.imread('img.png')\n",
    "img=cv2.cvtColor(img,cv2.COLOR_BGR2RGB)\n",
    "plt.imshow(img)"
   ]
  },
  {
   "cell_type": "code",
   "execution_count": null,
   "metadata": {
    "colab": {
     "base_uri": "https://localhost:8080/",
     "height": 34
    },
    "colab_type": "code",
    "id": "8u9rvWgvAbXD",
    "outputId": "356f6840-774f-4444-c624-d21818d098ab"
   },
   "outputs": [
    {
     "data": {
      "text/plain": [
       "(164, 308, 3)"
      ]
     },
     "execution_count": 282,
     "metadata": {
      "tags": []
     },
     "output_type": "execute_result"
    }
   ],
   "source": [
    "img.shape"
   ]
  },
  {
   "cell_type": "code",
   "execution_count": null,
   "metadata": {
    "colab": {
     "base_uri": "https://localhost:8080/",
     "height": 34
    },
    "colab_type": "code",
    "id": "hrKd5oP1Al-Q",
    "outputId": "cc87e453-1692-43b0-a60a-cc605f399b50"
   },
   "outputs": [
    {
     "data": {
      "text/plain": [
       "dtype('uint8')"
      ]
     },
     "execution_count": 283,
     "metadata": {
      "tags": []
     },
     "output_type": "execute_result"
    }
   ],
   "source": [
    "img.dtype"
   ]
  },
  {
   "cell_type": "code",
   "execution_count": null,
   "metadata": {
    "colab": {
     "base_uri": "https://localhost:8080/",
     "height": 34
    },
    "colab_type": "code",
    "id": "46mFFdB5Aqo4",
    "outputId": "58a04a26-4525-43f5-85c0-1bf6ee5df4c0"
   },
   "outputs": [
    {
     "data": {
      "text/plain": [
       "256"
      ]
     },
     "execution_count": 284,
     "metadata": {
      "tags": []
     },
     "output_type": "execute_result"
    }
   ],
   "source": [
    "2**8"
   ]
  },
  {
   "cell_type": "code",
   "execution_count": null,
   "metadata": {
    "colab": {
     "base_uri": "https://localhost:8080/",
     "height": 34
    },
    "colab_type": "code",
    "id": "NBsUlsaRAvd_",
    "outputId": "ed9a1dfe-858f-4574-f608-5d15fcc955f2"
   },
   "outputs": [
    {
     "data": {
      "text/plain": [
       "3"
      ]
     },
     "execution_count": 285,
     "metadata": {
      "tags": []
     },
     "output_type": "execute_result"
    }
   ],
   "source": [
    "img.ndim"
   ]
  },
  {
   "cell_type": "code",
   "execution_count": null,
   "metadata": {
    "colab": {
     "base_uri": "https://localhost:8080/",
     "height": 284
    },
    "colab_type": "code",
    "id": "UsSoPsrTAzd6",
    "outputId": "26d2d0e9-7bb3-415f-efce-6b67583694c0"
   },
   "outputs": [
    {
     "data": {
      "text/plain": [
       "<matplotlib.image.AxesImage at 0x7fee1434d358>"
      ]
     },
     "execution_count": 292,
     "metadata": {
      "tags": []
     },
     "output_type": "execute_result"
    },
    {
     "data": {
      "image/png": "[encoded data removed]",
      "text/plain": [
       "<Figure size 432x288 with 1 Axes>"
      ]
     },
     "metadata": {
      "needs_background": "light",
      "tags": []
     },
     "output_type": "display_data"
    }
   ],
   "source": [
    "plt.imshow(img[100::,150:-59,1])"
   ]
  },
  {
   "cell_type": "markdown",
   "metadata": {
    "colab_type": "text",
    "id": "qTgwbBF5lq-b"
   },
   "source": [
    "#Fast Element-Wise Array Functions¶"
   ]
  },
  {
   "cell_type": "code",
   "execution_count": null,
   "metadata": {
    "colab": {
     "base_uri": "https://localhost:8080/",
     "height": 34
    },
    "colab_type": "code",
    "id": "7anXyw8blSQv",
    "outputId": "59341b9d-bf6e-471c-8714-fbe6a8ff9860"
   },
   "outputs": [
    {
     "data": {
      "text/plain": [
       "array([1.1, 2.3, 2.4, 3.4])"
      ]
     },
     "execution_count": 88,
     "metadata": {
      "tags": []
     },
     "output_type": "execute_result"
    }
   ],
   "source": [
    "arr = np.array([1.1,2.3,2.4,3.4])\n",
    "arr"
   ]
  },
  {
   "cell_type": "code",
   "execution_count": null,
   "metadata": {
    "colab": {
     "base_uri": "https://localhost:8080/",
     "height": 34
    },
    "colab_type": "code",
    "id": "PSU6eO80ltzQ",
    "outputId": "729cf724-47af-41b3-9e16-ce97f720bbdc"
   },
   "outputs": [
    {
     "data": {
      "text/plain": [
       "(array([0.1, 0.3, 0.4, 0.4]), array([1., 2., 2., 3.]))"
      ]
     },
     "execution_count": 89,
     "metadata": {
      "tags": []
     },
     "output_type": "execute_result"
    }
   ],
   "source": [
    " np.modf(arr)"
   ]
  },
  {
   "cell_type": "code",
   "execution_count": null,
   "metadata": {
    "colab": {
     "base_uri": "https://localhost:8080/",
     "height": 34
    },
    "colab_type": "code",
    "id": "jwoe-k5clyT_",
    "outputId": "5e9fbcdc-e2d8-4ce5-8ab2-a0124783c775"
   },
   "outputs": [
    {
     "data": {
      "text/plain": [
       "array([6.6, 6.6, 2.4, 3.4])"
      ]
     },
     "execution_count": 92,
     "metadata": {
      "tags": []
     },
     "output_type": "execute_result"
    }
   ],
   "source": [
    "np.where(arr>2.3,arr,6.6) #Where True, yield x, otherwise yield y."
   ]
  },
  {
   "cell_type": "code",
   "execution_count": null,
   "metadata": {
    "colab": {
     "base_uri": "https://localhost:8080/",
     "height": 69
    },
    "colab_type": "code",
    "id": "lAEf9N1omc0r",
    "outputId": "48aae9fb-bfaf-4306-cce5-a57a683a58cd"
   },
   "outputs": [
    {
     "data": {
      "text/plain": [
       "array([[0, 1, 2],\n",
       "       [3, 4, 5],\n",
       "       [6, 7, 8]])"
      ]
     },
     "execution_count": 307,
     "metadata": {
      "tags": []
     },
     "output_type": "execute_result"
    }
   ],
   "source": [
    "arr = np.array([[0, 1, 2], [3, 4, 5], [6, 7, 8]])\n",
    "arr\n"
   ]
  },
  {
   "cell_type": "code",
   "execution_count": null,
   "metadata": {
    "colab": {
     "base_uri": "https://localhost:8080/",
     "height": 34
    },
    "colab_type": "code",
    "id": "P183t0ktBu2B",
    "outputId": "8d0f9713-b31c-4edb-c686-feb5ea7aacb5"
   },
   "outputs": [
    {
     "data": {
      "text/plain": [
       "4.0"
      ]
     },
     "execution_count": 294,
     "metadata": {
      "tags": []
     },
     "output_type": "execute_result"
    }
   ],
   "source": [
    "np.mean(arr)"
   ]
  },
  {
   "cell_type": "code",
   "execution_count": null,
   "metadata": {
    "colab": {
     "base_uri": "https://localhost:8080/",
     "height": 34
    },
    "colab_type": "code",
    "id": "ObmJDyzdxp6w",
    "outputId": "1b1c591c-10ff-4380-9374-400699fbfbff"
   },
   "outputs": [
    {
     "data": {
      "text/plain": [
       "array([3., 4., 5.])"
      ]
     },
     "execution_count": 175,
     "metadata": {
      "tags": []
     },
     "output_type": "execute_result"
    }
   ],
   "source": [
    "np.mean(arr,axis=0) #take axis across rows"
   ]
  },
  {
   "cell_type": "code",
   "execution_count": null,
   "metadata": {
    "colab": {
     "base_uri": "https://localhost:8080/",
     "height": 34
    },
    "colab_type": "code",
    "id": "_QeuQmfnyA0j",
    "outputId": "9045ff5c-78ff-40a8-f32b-1727d33c11ed"
   },
   "outputs": [
    {
     "data": {
      "text/plain": [
       "array([1., 4., 7.])"
      ]
     },
     "execution_count": 176,
     "metadata": {
      "tags": []
     },
     "output_type": "execute_result"
    }
   ],
   "source": [
    "np.mean(arr,axis=1) #take axis across columns"
   ]
  },
  {
   "cell_type": "code",
   "execution_count": null,
   "metadata": {
    "colab": {
     "base_uri": "https://localhost:8080/",
     "height": 34
    },
    "colab_type": "code",
    "id": "FT-Jxh1uCk9s",
    "outputId": "90109ca8-9b7c-44ea-9403-2536e6f947b6"
   },
   "outputs": [
    {
     "data": {
      "text/plain": [
       "4"
      ]
     },
     "execution_count": 303,
     "metadata": {
      "tags": []
     },
     "output_type": "execute_result"
    }
   ],
   "source": [
    "np.argmin(arr)"
   ]
  },
  {
   "cell_type": "code",
   "execution_count": null,
   "metadata": {
    "colab": {
     "base_uri": "https://localhost:8080/",
     "height": 34
    },
    "colab_type": "code",
    "id": "dckPkIApCGzK",
    "outputId": "be348ebc-0b0d-4606-fb27-8d6de37f4c6d"
   },
   "outputs": [
    {
     "data": {
      "text/plain": [
       "array([2, 1, 1])"
      ]
     },
     "execution_count": 305,
     "metadata": {
      "tags": []
     },
     "output_type": "execute_result"
    }
   ],
   "source": [
    "np.argmin(arr,axis=0)"
   ]
  },
  {
   "cell_type": "markdown",
   "metadata": {
    "colab_type": "text",
    "id": "qDvgv2feBpLI"
   },
   "source": []
  },
  {
   "cell_type": "code",
   "execution_count": null,
   "metadata": {
    "colab": {
     "base_uri": "https://localhost:8080/",
     "height": 69
    },
    "colab_type": "code",
    "id": "tU3WUUTvmrZ1",
    "outputId": "0555141f-f9de-451c-928a-30452d124022"
   },
   "outputs": [
    {
     "data": {
      "text/plain": [
       "array([[ 0,  1,  2],\n",
       "       [ 3,  5,  7],\n",
       "       [ 9, 12, 15]])"
      ]
     },
     "execution_count": 308,
     "metadata": {
      "tags": []
     },
     "output_type": "execute_result"
    }
   ],
   "source": [
    "arr.cumsum(axis=0)\n"
   ]
  },
  {
   "cell_type": "code",
   "execution_count": null,
   "metadata": {
    "colab": {
     "base_uri": "https://localhost:8080/",
     "height": 69
    },
    "colab_type": "code",
    "id": "IoLFlcLSmsaS",
    "outputId": "7c4319da-7686-4723-b6cd-7a9ab041faa7"
   },
   "outputs": [
    {
     "data": {
      "text/plain": [
       "array([[ 0,  1,  3],\n",
       "       [ 3,  7, 12],\n",
       "       [ 6, 13, 21]])"
      ]
     },
     "execution_count": 95,
     "metadata": {
      "tags": []
     },
     "output_type": "execute_result"
    }
   ],
   "source": [
    "arr.cumsum(axis=1)\n"
   ]
  },
  {
   "cell_type": "code",
   "execution_count": null,
   "metadata": {
    "colab": {
     "base_uri": "https://localhost:8080/",
     "height": 69
    },
    "colab_type": "code",
    "id": "xCPtaYxRmwDh",
    "outputId": "9ed90e68-ebcf-4d87-f3ff-8e3fd492cffe"
   },
   "outputs": [
    {
     "data": {
      "text/plain": [
       "array([[  0,   0,   0],\n",
       "       [  3,  12,  60],\n",
       "       [  6,  42, 336]])"
      ]
     },
     "execution_count": 96,
     "metadata": {
      "tags": []
     },
     "output_type": "execute_result"
    }
   ],
   "source": [
    "arr.cumprod(axis=1)"
   ]
  },
  {
   "cell_type": "code",
   "execution_count": null,
   "metadata": {
    "colab": {
     "base_uri": "https://localhost:8080/",
     "height": 69
    },
    "colab_type": "code",
    "id": "ua7Y_Vtcm0gi",
    "outputId": "6b52a25c-1f57-4d64-f53d-ece0ff6976cc"
   },
   "outputs": [
    {
     "data": {
      "text/plain": [
       "array([[ 0,  1,  2],\n",
       "       [ 0,  4, 10],\n",
       "       [ 0, 28, 80]])"
      ]
     },
     "execution_count": 97,
     "metadata": {
      "tags": []
     },
     "output_type": "execute_result"
    }
   ],
   "source": [
    "arr.cumprod(axis=0)"
   ]
  },
  {
   "cell_type": "code",
   "execution_count": null,
   "metadata": {
    "colab": {},
    "colab_type": "code",
    "id": "_aMRaH_ym2h7"
   },
   "outputs": [],
   "source": []
  },
  {
   "cell_type": "markdown",
   "metadata": {
    "colab_type": "text",
    "id": "gvm84uA0m_N_"
   },
   "source": [
    "# file handling"
   ]
  },
  {
   "cell_type": "code",
   "execution_count": null,
   "metadata": {
    "colab": {},
    "colab_type": "code",
    "id": "aFI3XzUXnXiO"
   },
   "outputs": [],
   "source": [
    "arr1 = np.arange(8).reshape(2, 4)\n",
    "arr2 = np.arange(10).reshape(2, 5)\n"
   ]
  },
  {
   "cell_type": "code",
   "execution_count": null,
   "metadata": {
    "colab": {},
    "colab_type": "code",
    "id": "xvphaXvsnBL3"
   },
   "outputs": [],
   "source": [
    "np.save('array',arr1)"
   ]
  },
  {
   "cell_type": "code",
   "execution_count": null,
   "metadata": {
    "colab": {},
    "colab_type": "code",
    "id": "Pvn2o6_XnZKC"
   },
   "outputs": [],
   "source": [
    "np.savez('2array.npz', name1=arr1, name2=arr2)"
   ]
  },
  {
   "cell_type": "code",
   "execution_count": null,
   "metadata": {
    "colab": {},
    "colab_type": "code",
    "id": "3wOV01PWncmW"
   },
   "outputs": [],
   "source": [
    "data = np.load('mat.npz')\n"
   ]
  },
  {
   "cell_type": "code",
   "execution_count": null,
   "metadata": {
    "colab": {
     "base_uri": "https://localhost:8080/",
     "height": 51
    },
    "colab_type": "code",
    "id": "SFGZFTFXF-jz",
    "outputId": "ecd5857e-c771-4e61-c6cc-e9ac448524db"
   },
   "outputs": [
    {
     "name": "stdout",
     "output_type": "stream",
     "text": [
      "name1\n",
      "name2\n"
     ]
    }
   ],
   "source": [
    "for d in data:\n",
    "  print(d)"
   ]
  },
  {
   "cell_type": "code",
   "execution_count": null,
   "metadata": {
    "colab": {
     "base_uri": "https://localhost:8080/",
     "height": 51
    },
    "colab_type": "code",
    "id": "icMdmU-bng8Z",
    "outputId": "2f61a612-a621-4d90-9b66-33567911e016"
   },
   "outputs": [
    {
     "data": {
      "text/plain": [
       "array([[0, 1, 2, 3],\n",
       "       [4, 5, 6, 7]])"
      ]
     },
     "execution_count": 313,
     "metadata": {
      "tags": []
     },
     "output_type": "execute_result"
    }
   ],
   "source": [
    "data['name1']"
   ]
  },
  {
   "cell_type": "code",
   "execution_count": null,
   "metadata": {
    "colab": {
     "base_uri": "https://localhost:8080/",
     "height": 51
    },
    "colab_type": "code",
    "id": "kzWhbtSFnsWR",
    "outputId": "3f53c981-9f36-4560-c45e-6e483ed4967a"
   },
   "outputs": [
    {
     "data": {
      "text/plain": [
       "array([[0, 1, 2, 3, 4],\n",
       "       [5, 6, 7, 8, 9]])"
      ]
     },
     "execution_count": 314,
     "metadata": {
      "tags": []
     },
     "output_type": "execute_result"
    }
   ],
   "source": [
    "data['name2']"
   ]
  },
  {
   "cell_type": "code",
   "execution_count": null,
   "metadata": {
    "colab": {},
    "colab_type": "code",
    "id": "FGmGdiIXntih"
   },
   "outputs": [],
   "source": [
    "np.savetxt('file.txt',arr1,)"
   ]
  },
  {
   "cell_type": "code",
   "execution_count": null,
   "metadata": {
    "colab": {
     "base_uri": "https://localhost:8080/",
     "height": 51
    },
    "colab_type": "code",
    "id": "xziSZYJOoE_f",
    "outputId": "b5feb4f7-0dc3-4e26-e0ff-39ad8d04de63"
   },
   "outputs": [
    {
     "data": {
      "text/plain": [
       "array([[0., 1., 2., 3.],\n",
       "       [4., 5., 6., 7.]])"
      ]
     },
     "execution_count": 113,
     "metadata": {
      "tags": []
     },
     "output_type": "execute_result"
    }
   ],
   "source": [
    "np.loadtxt('file.txt')"
   ]
  },
  {
   "cell_type": "markdown",
   "metadata": {
    "colab_type": "text",
    "id": "8_4VXDUjsmmy"
   },
   "source": [
    "# linear algebra\n",
    "![image.png](data:image/png;base64,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)"
   ]
  },
  {
   "cell_type": "code",
   "execution_count": null,
   "metadata": {
    "colab": {
     "base_uri": "https://localhost:8080/",
     "height": 51
    },
    "colab_type": "code",
    "id": "mGZBIp4ksq5g",
    "outputId": "603ec972-63ca-4499-c171-ae2ff9b36940"
   },
   "outputs": [
    {
     "data": {
      "text/plain": [
       "array([[4, 7],\n",
       "       [2, 6]])"
      ]
     },
     "execution_count": 315,
     "metadata": {
      "tags": []
     },
     "output_type": "execute_result"
    }
   ],
   "source": [
    "arr=np.array([[4,7],[2,6]])\n",
    "arr"
   ]
  },
  {
   "cell_type": "code",
   "execution_count": null,
   "metadata": {
    "colab": {
     "base_uri": "https://localhost:8080/",
     "height": 51
    },
    "colab_type": "code",
    "id": "nXcDAWSmszXB",
    "outputId": "82b0bb8d-7d6f-4ab2-bba6-b5640ccd93bf"
   },
   "outputs": [
    {
     "data": {
      "text/plain": [
       "array([[ 0.6, -0.7],\n",
       "       [-0.2,  0.4]])"
      ]
     },
     "execution_count": 316,
     "metadata": {
      "tags": []
     },
     "output_type": "execute_result"
    }
   ],
   "source": [
    "from numpy.linalg import inv, qr\n",
    "inv(arr)"
   ]
  },
  {
   "cell_type": "markdown",
   "metadata": {
    "colab_type": "text",
    "id": "8PfBnwiXtj0y"
   },
   "source": [
    "![alt text](https://s3-us-west-2.amazonaws.com/courses-images-archive-read-only/wp-content/uploads/sites/924/2015/11/25202143/CNX_Precalc_Figure_09_05_0032.jpg)"
   ]
  },
  {
   "cell_type": "code",
   "execution_count": null,
   "metadata": {
    "colab": {
     "base_uri": "https://localhost:8080/",
     "height": 51
    },
    "colab_type": "code",
    "id": "u9ZTLBg-tiv9",
    "outputId": "cea04088-35f9-4bff-9b71-d6ea057b68cd"
   },
   "outputs": [
    {
     "data": {
      "text/plain": [
       "array([[1, 2],\n",
       "       [3, 4]])"
      ]
     },
     "execution_count": 165,
     "metadata": {
      "tags": []
     },
     "output_type": "execute_result"
    }
   ],
   "source": [
    "A=np.array([[1,2],[3,4]])\n",
    "A"
   ]
  },
  {
   "cell_type": "code",
   "execution_count": null,
   "metadata": {
    "colab": {
     "base_uri": "https://localhost:8080/",
     "height": 51
    },
    "colab_type": "code",
    "id": "8GNGk9Ths3wi",
    "outputId": "9f8972f9-8b3e-49f2-dc0e-ca5546285311"
   },
   "outputs": [
    {
     "data": {
      "text/plain": [
       "array([[5, 6],\n",
       "       [7, 8]])"
      ]
     },
     "execution_count": 167,
     "metadata": {
      "tags": []
     },
     "output_type": "execute_result"
    }
   ],
   "source": [
    "B=np.array([[5,6],[7,8]])\n",
    "B"
   ]
  },
  {
   "cell_type": "code",
   "execution_count": null,
   "metadata": {
    "colab": {
     "base_uri": "https://localhost:8080/",
     "height": 51
    },
    "colab_type": "code",
    "id": "aZzeO2JXt2vz",
    "outputId": "96d6b054-b5b2-4a9e-eeb3-d5466e598d98"
   },
   "outputs": [
    {
     "data": {
      "text/plain": [
       "array([[ 5, 12],\n",
       "       [21, 32]])"
      ]
     },
     "execution_count": 168,
     "metadata": {
      "tags": []
     },
     "output_type": "execute_result"
    }
   ],
   "source": [
    "A*B"
   ]
  },
  {
   "cell_type": "code",
   "execution_count": null,
   "metadata": {
    "colab": {
     "base_uri": "https://localhost:8080/",
     "height": 51
    },
    "colab_type": "code",
    "id": "qMbYvej2t7xG",
    "outputId": "3432829f-1049-40dc-9d27-8eda7bd47d86"
   },
   "outputs": [
    {
     "data": {
      "text/plain": [
       "array([[19, 22],\n",
       "       [43, 50]])"
      ]
     },
     "execution_count": 171,
     "metadata": {
      "tags": []
     },
     "output_type": "execute_result"
    }
   ],
   "source": [
    "np.dot(A,B)"
   ]
  },
  {
   "cell_type": "code",
   "execution_count": null,
   "metadata": {
    "colab": {
     "base_uri": "https://localhost:8080/",
     "height": 51
    },
    "colab_type": "code",
    "id": "MUvGutPxt-JW",
    "outputId": "aa434f50-747c-4a0a-9699-ebb07928f273"
   },
   "outputs": [
    {
     "data": {
      "text/plain": [
       "array([[19, 22],\n",
       "       [43, 50]])"
      ]
     },
     "execution_count": 172,
     "metadata": {
      "tags": []
     },
     "output_type": "execute_result"
    }
   ],
   "source": [
    "A@B"
   ]
  },
  {
   "cell_type": "markdown",
   "metadata": {
    "colab_type": "text",
    "id": "xUcCmfVgo2hD"
   },
   "source": [
    "# resahpe"
   ]
  },
  {
   "cell_type": "code",
   "execution_count": null,
   "metadata": {
    "colab": {
     "base_uri": "https://localhost:8080/",
     "height": 34
    },
    "colab_type": "code",
    "id": "r_iU7rYDoQcK",
    "outputId": "63d993e1-addc-4790-8384-1a815e8231c4"
   },
   "outputs": [
    {
     "data": {
      "text/plain": [
       "array([0, 1, 2, 3, 4, 5, 6, 7, 8, 9])"
      ]
     },
     "execution_count": 317,
     "metadata": {
      "tags": []
     },
     "output_type": "execute_result"
    }
   ],
   "source": [
    "arr=np.array([0,1,2,3,4,5,6,7,8,9])\n",
    "arr"
   ]
  },
  {
   "cell_type": "code",
   "execution_count": null,
   "metadata": {
    "colab": {
     "base_uri": "https://localhost:8080/",
     "height": 103
    },
    "colab_type": "code",
    "id": "Ewh-m7aGpArm",
    "outputId": "f5bcb075-5678-4016-ce2b-ce5f3533963a"
   },
   "outputs": [
    {
     "data": {
      "text/plain": [
       "array([[0, 1],\n",
       "       [2, 3],\n",
       "       [4, 5],\n",
       "       [6, 7],\n",
       "       [8, 9]])"
      ]
     },
     "execution_count": 119,
     "metadata": {
      "tags": []
     },
     "output_type": "execute_result"
    }
   ],
   "source": [
    "arr.reshape(-1,2)"
   ]
  },
  {
   "cell_type": "code",
   "execution_count": null,
   "metadata": {
    "colab": {
     "base_uri": "https://localhost:8080/",
     "height": 51
    },
    "colab_type": "code",
    "id": "YZHR20wDpEvF",
    "outputId": "da4c275a-eff9-4830-ce56-368c1e1dc352"
   },
   "outputs": [
    {
     "data": {
      "text/plain": [
       "array([[0, 1, 2, 3, 4],\n",
       "       [5, 6, 7, 8, 9]])"
      ]
     },
     "execution_count": 120,
     "metadata": {
      "tags": []
     },
     "output_type": "execute_result"
    }
   ],
   "source": [
    "arr.reshape(-1,5)"
   ]
  },
  {
   "cell_type": "code",
   "execution_count": null,
   "metadata": {
    "colab": {
     "base_uri": "https://localhost:8080/",
     "height": 51
    },
    "colab_type": "code",
    "id": "W688F8RgpJfi",
    "outputId": "6b2392fe-92ee-4f49-d28c-f30a3c170b29"
   },
   "outputs": [
    {
     "data": {
      "text/plain": [
       "array([[0, 1, 2, 3, 4],\n",
       "       [5, 6, 7, 8, 9]])"
      ]
     },
     "execution_count": 320,
     "metadata": {
      "tags": []
     },
     "output_type": "execute_result"
    }
   ],
   "source": [
    "arr.reshape(2,-1)"
   ]
  },
  {
   "cell_type": "code",
   "execution_count": null,
   "metadata": {
    "colab": {
     "base_uri": "https://localhost:8080/",
     "height": 103
    },
    "colab_type": "code",
    "id": "zGDyJw6CpWMF",
    "outputId": "be9dafda-8c26-4f29-b761-468373468532"
   },
   "outputs": [
    {
     "data": {
      "text/plain": [
       "array([[0, 1],\n",
       "       [2, 3],\n",
       "       [4, 5],\n",
       "       [6, 7],\n",
       "       [8, 9]])"
      ]
     },
     "execution_count": 122,
     "metadata": {
      "tags": []
     },
     "output_type": "execute_result"
    }
   ],
   "source": [
    "arr.reshape(5,-1)"
   ]
  },
  {
   "cell_type": "markdown",
   "metadata": {
    "colab_type": "text",
    "id": "IzSr4ZDxpnL2"
   },
   "source": [
    "#Concatenating and Splitting Arrays"
   ]
  },
  {
   "cell_type": "code",
   "execution_count": null,
   "metadata": {
    "colab": {},
    "colab_type": "code",
    "id": "HGWSF4e2pin5"
   },
   "outputs": [],
   "source": [
    "arr1 = np.array([[1, 2, 3], [4, 5, 6]])\n",
    "arr2 = np.array([[7, 8, 9], [10, 11, 12]])"
   ]
  },
  {
   "cell_type": "code",
   "execution_count": null,
   "metadata": {
    "colab": {
     "base_uri": "https://localhost:8080/",
     "height": 51
    },
    "colab_type": "code",
    "id": "Hr96YuEgHvR0",
    "outputId": "c94fc0c2-aa20-4c52-8653-403771de8e6d"
   },
   "outputs": [
    {
     "data": {
      "text/plain": [
       "array([[1, 2, 3],\n",
       "       [4, 5, 6]])"
      ]
     },
     "execution_count": 322,
     "metadata": {
      "tags": []
     },
     "output_type": "execute_result"
    }
   ],
   "source": [
    "arr1"
   ]
  },
  {
   "cell_type": "code",
   "execution_count": null,
   "metadata": {
    "colab": {
     "base_uri": "https://localhost:8080/",
     "height": 51
    },
    "colab_type": "code",
    "id": "VnlMR2kzHwjv",
    "outputId": "c1f390bc-c845-4d35-91ee-6e7b7379bcbd"
   },
   "outputs": [
    {
     "data": {
      "text/plain": [
       "array([[ 7,  8,  9],\n",
       "       [10, 11, 12]])"
      ]
     },
     "execution_count": 323,
     "metadata": {
      "tags": []
     },
     "output_type": "execute_result"
    }
   ],
   "source": [
    "arr2"
   ]
  },
  {
   "cell_type": "code",
   "execution_count": null,
   "metadata": {
    "colab": {
     "base_uri": "https://localhost:8080/",
     "height": 86
    },
    "colab_type": "code",
    "id": "C-uV7gpGprMO",
    "outputId": "50844510-0dbe-4c30-cb08-8b6ad7340469"
   },
   "outputs": [
    {
     "data": {
      "text/plain": [
       "array([[ 1,  2,  3],\n",
       "       [ 4,  5,  6],\n",
       "       [ 7,  8,  9],\n",
       "       [10, 11, 12]])"
      ]
     },
     "execution_count": 124,
     "metadata": {
      "tags": []
     },
     "output_type": "execute_result"
    }
   ],
   "source": [
    "np.concatenate([arr1, arr2], axis=0)"
   ]
  },
  {
   "cell_type": "code",
   "execution_count": null,
   "metadata": {
    "colab": {
     "base_uri": "https://localhost:8080/",
     "height": 51
    },
    "colab_type": "code",
    "id": "rGFV4GDIpsDK",
    "outputId": "0a0fb5ea-a4d2-41c7-e747-4df8e4547247"
   },
   "outputs": [
    {
     "data": {
      "text/plain": [
       "array([[ 1,  2,  3,  7,  8,  9],\n",
       "       [ 4,  5,  6, 10, 11, 12]])"
      ]
     },
     "execution_count": 126,
     "metadata": {
      "tags": []
     },
     "output_type": "execute_result"
    }
   ],
   "source": [
    "np.concatenate([arr1, arr2], axis=1)"
   ]
  },
  {
   "cell_type": "code",
   "execution_count": null,
   "metadata": {
    "colab": {
     "base_uri": "https://localhost:8080/",
     "height": 86
    },
    "colab_type": "code",
    "id": "3gmV9aECpvPI",
    "outputId": "b82beebf-fbfe-46a0-d84c-e2e6a8caa320"
   },
   "outputs": [
    {
     "data": {
      "text/plain": [
       "array([[ 1,  2,  3],\n",
       "       [ 4,  5,  6],\n",
       "       [ 7,  8,  9],\n",
       "       [10, 11, 12]])"
      ]
     },
     "execution_count": 127,
     "metadata": {
      "tags": []
     },
     "output_type": "execute_result"
    }
   ],
   "source": [
    "np.vstack((arr1, arr2))"
   ]
  },
  {
   "cell_type": "code",
   "execution_count": null,
   "metadata": {
    "colab": {
     "base_uri": "https://localhost:8080/",
     "height": 34
    },
    "colab_type": "code",
    "id": "f8Q0OOAapxC3",
    "outputId": "d1eaa914-bd2e-4baa-e6d6-0544dafd4bda"
   },
   "outputs": [
    {
     "data": {
      "text/plain": [
       "2"
      ]
     },
     "execution_count": 324,
     "metadata": {
      "tags": []
     },
     "output_type": "execute_result"
    }
   ],
   "source": [
    "np.hstack((arr1, arr2)).ndim"
   ]
  },
  {
   "cell_type": "code",
   "execution_count": null,
   "metadata": {
    "colab": {
     "base_uri": "https://localhost:8080/",
     "height": 103
    },
    "colab_type": "code",
    "id": "H-cHVFaGp0Ru",
    "outputId": "0cd1c587-babd-42ee-8fb9-db18719d49ca"
   },
   "outputs": [
    {
     "data": {
      "text/plain": [
       "array([[[ 1,  2,  3],\n",
       "        [ 4,  5,  6]],\n",
       "\n",
       "       [[ 7,  8,  9],\n",
       "        [10, 11, 12]]])"
      ]
     },
     "execution_count": 129,
     "metadata": {
      "tags": []
     },
     "output_type": "execute_result"
    }
   ],
   "source": [
    "np.stack((arr1, arr2))"
   ]
  },
  {
   "cell_type": "code",
   "execution_count": null,
   "metadata": {
    "colab": {
     "base_uri": "https://localhost:8080/",
     "height": 34
    },
    "colab_type": "code",
    "id": "-pMA4DHsp10d",
    "outputId": "7b85bcaf-edda-495d-d39d-79cbf59a2558"
   },
   "outputs": [
    {
     "data": {
      "text/plain": [
       "3"
      ]
     },
     "execution_count": 325,
     "metadata": {
      "tags": []
     },
     "output_type": "execute_result"
    }
   ],
   "source": [
    "np.stack((arr1, arr2)).ndim"
   ]
  },
  {
   "cell_type": "markdown",
   "metadata": {
    "colab_type": "text",
    "id": "5e_4aSs9qL7k"
   },
   "source": [
    "# split"
   ]
  },
  {
   "cell_type": "code",
   "execution_count": null,
   "metadata": {
    "colab": {
     "base_uri": "https://localhost:8080/",
     "height": 34
    },
    "colab_type": "code",
    "id": "Jr9oLNJ9qM78",
    "outputId": "9ed920c5-0f32-4e6c-e110-c47a07370600"
   },
   "outputs": [
    {
     "data": {
      "text/plain": [
       "array([0., 1., 2., 3., 4., 5., 6., 7., 8.])"
      ]
     },
     "execution_count": 326,
     "metadata": {
      "tags": []
     },
     "output_type": "execute_result"
    }
   ],
   "source": [
    "x = np.arange(9.0)\n",
    "x"
   ]
  },
  {
   "cell_type": "code",
   "execution_count": null,
   "metadata": {
    "colab": {
     "base_uri": "https://localhost:8080/",
     "height": 34
    },
    "colab_type": "code",
    "id": "mbtWzVO4ITpM",
    "outputId": "50ede34e-5de7-430b-8a7f-5c78e8ad9ce2"
   },
   "outputs": [
    {
     "data": {
      "text/plain": [
       "[array([0., 1., 2.]), array([3., 4., 5.]), array([6., 7., 8.])]"
      ]
     },
     "execution_count": 327,
     "metadata": {
      "tags": []
     },
     "output_type": "execute_result"
    }
   ],
   "source": [
    "np.split(x, 3)"
   ]
  },
  {
   "cell_type": "code",
   "execution_count": null,
   "metadata": {
    "colab": {
     "base_uri": "https://localhost:8080/",
     "height": 34
    },
    "colab_type": "code",
    "id": "P8iUlK-AqlCC",
    "outputId": "b5ed183b-e6a2-4562-ac28-f73dbc8c6685"
   },
   "outputs": [
    {
     "data": {
      "text/plain": [
       "[array([0., 1., 2.]), array([3., 4., 5.]), array([6., 7., 8.])]"
      ]
     },
     "execution_count": 136,
     "metadata": {
      "tags": []
     },
     "output_type": "execute_result"
    }
   ],
   "source": [
    "np.hsplit(x,3)"
   ]
  },
  {
   "cell_type": "code",
   "execution_count": null,
   "metadata": {
    "colab": {
     "base_uri": "https://localhost:8080/",
     "height": 341
    },
    "colab_type": "code",
    "id": "AnXoRR7bqpIj",
    "outputId": "48c6b0a3-d866-4f0b-ec07-3ba99d7c6337"
   },
   "outputs": [
    {
     "ename": "ValueError",
     "evalue": "ignored",
     "output_type": "error",
     "traceback": [
      "\u001b[0;31m---------------------------------------------------------------------------\u001b[0m",
      "\u001b[0;31mValueError\u001b[0m                                Traceback (most recent call last)",
      "\u001b[0;32m<ipython-input-137-fcadb182f34e>\u001b[0m in \u001b[0;36m<module>\u001b[0;34m()\u001b[0m\n\u001b[0;32m----> 1\u001b[0;31m \u001b[0mnp\u001b[0m\u001b[0;34m.\u001b[0m\u001b[0mvsplit\u001b[0m\u001b[0;34m(\u001b[0m\u001b[0mx\u001b[0m\u001b[0;34m,\u001b[0m\u001b[0;36m3\u001b[0m\u001b[0;34m)\u001b[0m\u001b[0;34m\u001b[0m\u001b[0;34m\u001b[0m\u001b[0m\n\u001b[0m",
      "\u001b[0;32m<__array_function__ internals>\u001b[0m in \u001b[0;36mvsplit\u001b[0;34m(*args, **kwargs)\u001b[0m\n",
      "\u001b[0;32m/usr/local/lib/python3.6/dist-packages/numpy/lib/shape_base.py\u001b[0m in \u001b[0;36mvsplit\u001b[0;34m(ary, indices_or_sections)\u001b[0m\n\u001b[1;32m    986\u001b[0m     \"\"\"\n\u001b[1;32m    987\u001b[0m     \u001b[0;32mif\u001b[0m \u001b[0m_nx\u001b[0m\u001b[0;34m.\u001b[0m\u001b[0mndim\u001b[0m\u001b[0;34m(\u001b[0m\u001b[0mary\u001b[0m\u001b[0;34m)\u001b[0m \u001b[0;34m<\u001b[0m \u001b[0;36m2\u001b[0m\u001b[0;34m:\u001b[0m\u001b[0;34m\u001b[0m\u001b[0;34m\u001b[0m\u001b[0m\n\u001b[0;32m--> 988\u001b[0;31m         \u001b[0;32mraise\u001b[0m \u001b[0mValueError\u001b[0m\u001b[0;34m(\u001b[0m\u001b[0;34m'vsplit only works on arrays of 2 or more dimensions'\u001b[0m\u001b[0;34m)\u001b[0m\u001b[0;34m\u001b[0m\u001b[0;34m\u001b[0m\u001b[0m\n\u001b[0m\u001b[1;32m    989\u001b[0m     \u001b[0;32mreturn\u001b[0m \u001b[0msplit\u001b[0m\u001b[0;34m(\u001b[0m\u001b[0mary\u001b[0m\u001b[0;34m,\u001b[0m \u001b[0mindices_or_sections\u001b[0m\u001b[0;34m,\u001b[0m \u001b[0;36m0\u001b[0m\u001b[0;34m)\u001b[0m\u001b[0;34m\u001b[0m\u001b[0;34m\u001b[0m\u001b[0m\n\u001b[1;32m    990\u001b[0m \u001b[0;34m\u001b[0m\u001b[0m\n",
      "\u001b[0;31mValueError\u001b[0m: vsplit only works on arrays of 2 or more dimensions"
     ]
    }
   ],
   "source": [
    "np.vsplit(x,3)"
   ]
  },
  {
   "cell_type": "code",
   "execution_count": null,
   "metadata": {
    "colab": {
     "base_uri": "https://localhost:8080/",
     "height": 86
    },
    "colab_type": "code",
    "id": "x2jlFOPIp4QR",
    "outputId": "5e6b55af-79ee-4adf-939b-f659fc8154fb"
   },
   "outputs": [
    {
     "data": {
      "text/plain": [
       "array([[1, 2, 3, 4],\n",
       "       [6, 7, 8, 9],\n",
       "       [1, 2, 3, 4],\n",
       "       [6, 7, 8, 9]])"
      ]
     },
     "execution_count": 328,
     "metadata": {
      "tags": []
     },
     "output_type": "execute_result"
    }
   ],
   "source": [
    "x1=np.array([[1,2,3,4],[6,7,8,9],[1,2,3,4],[6,7,8,9]])\n",
    "x1"
   ]
  },
  {
   "cell_type": "code",
   "execution_count": null,
   "metadata": {
    "colab": {
     "base_uri": "https://localhost:8080/",
     "height": 138
    },
    "colab_type": "code",
    "id": "punGS5a2qPp7",
    "outputId": "f00f4784-3c5c-4808-d69c-1441fdf5b79e"
   },
   "outputs": [
    {
     "data": {
      "text/plain": [
       "[array([[1, 2],\n",
       "        [6, 7],\n",
       "        [1, 2],\n",
       "        [6, 7]]), array([[3, 4],\n",
       "        [8, 9],\n",
       "        [3, 4],\n",
       "        [8, 9]])]"
      ]
     },
     "execution_count": 329,
     "metadata": {
      "tags": []
     },
     "output_type": "execute_result"
    }
   ],
   "source": [
    "np.hsplit(x1,2)"
   ]
  },
  {
   "cell_type": "code",
   "execution_count": null,
   "metadata": {
    "colab": {
     "base_uri": "https://localhost:8080/",
     "height": 69
    },
    "colab_type": "code",
    "id": "yN2helrsqfqh",
    "outputId": "ea6d908e-5252-45b5-a7ff-201e38e3e67b"
   },
   "outputs": [
    {
     "data": {
      "text/plain": [
       "[array([[1, 2, 3, 4],\n",
       "        [6, 7, 8, 9]]), array([[1, 2, 3, 4],\n",
       "        [6, 7, 8, 9]])]"
      ]
     },
     "execution_count": 148,
     "metadata": {
      "tags": []
     },
     "output_type": "execute_result"
    }
   ],
   "source": [
    "np.vsplit(x1,2)"
   ]
  },
  {
   "cell_type": "markdown",
   "metadata": {
    "colab_type": "text",
    "id": "PN39htk0rQye"
   },
   "source": [
    "# repeat and tile"
   ]
  },
  {
   "cell_type": "code",
   "execution_count": null,
   "metadata": {
    "colab": {
     "base_uri": "https://localhost:8080/",
     "height": 34
    },
    "colab_type": "code",
    "id": "RFLmF5IIrSy4",
    "outputId": "f9de88d5-4312-4190-ff19-5c578c8b82a3"
   },
   "outputs": [
    {
     "data": {
      "text/plain": [
       "array([0, 1, 2])"
      ]
     },
     "execution_count": 330,
     "metadata": {
      "tags": []
     },
     "output_type": "execute_result"
    }
   ],
   "source": [
    "arr = np.arange(3)\n",
    "arr"
   ]
  },
  {
   "cell_type": "code",
   "execution_count": null,
   "metadata": {
    "colab": {
     "base_uri": "https://localhost:8080/",
     "height": 34
    },
    "colab_type": "code",
    "id": "7f6JMGy8rIAy",
    "outputId": "9296dca7-1513-4d0b-90cb-91c788134f3d"
   },
   "outputs": [
    {
     "data": {
      "text/plain": [
       "array([0, 0, 0, 1, 1, 1, 2, 2, 2])"
      ]
     },
     "execution_count": 150,
     "metadata": {
      "tags": []
     },
     "output_type": "execute_result"
    }
   ],
   "source": [
    "arr.repeat(3)"
   ]
  },
  {
   "cell_type": "code",
   "execution_count": null,
   "metadata": {
    "colab": {
     "base_uri": "https://localhost:8080/",
     "height": 34
    },
    "colab_type": "code",
    "id": "e5zI-UrKJCIy",
    "outputId": "62b2d366-8cfb-474a-f3bb-a3773b7bc975"
   },
   "outputs": [
    {
     "data": {
      "text/plain": [
       "array([0, 0, 0, 1, 1, 1, 2, 2, 2])"
      ]
     },
     "execution_count": 331,
     "metadata": {
      "tags": []
     },
     "output_type": "execute_result"
    }
   ],
   "source": [
    "np.repeat(arr,3)"
   ]
  },
  {
   "cell_type": "code",
   "execution_count": null,
   "metadata": {
    "colab": {
     "base_uri": "https://localhost:8080/",
     "height": 34
    },
    "colab_type": "code",
    "id": "RWi99vVbruGr",
    "outputId": "1691b8cc-6398-4d45-c477-ac329f9c65ab"
   },
   "outputs": [
    {
     "data": {
      "text/plain": [
       "array([0, 1, 2, 0, 1, 2, 0, 1, 2])"
      ]
     },
     "execution_count": 156,
     "metadata": {
      "tags": []
     },
     "output_type": "execute_result"
    }
   ],
   "source": [
    "np.tile(arr, 3)"
   ]
  },
  {
   "cell_type": "code",
   "execution_count": null,
   "metadata": {
    "colab": {
     "base_uri": "https://localhost:8080/",
     "height": 34
    },
    "colab_type": "code",
    "id": "bd3cCEanrb_s",
    "outputId": "5f648485-4f4a-4cdf-ae0a-46cfdeea9dc0"
   },
   "outputs": [
    {
     "data": {
      "text/plain": [
       "array([0, 0, 1, 1, 1, 2, 2, 2, 2])"
      ]
     },
     "execution_count": 154,
     "metadata": {
      "tags": []
     },
     "output_type": "execute_result"
    }
   ],
   "source": [
    "arr.repeat([2, 3, 4])"
   ]
  },
  {
   "cell_type": "code",
   "execution_count": null,
   "metadata": {
    "colab": {
     "base_uri": "https://localhost:8080/",
     "height": 165
    },
    "colab_type": "code",
    "id": "vsNPOHNGrenr",
    "outputId": "906f3cd3-821b-4cba-bc44-b150557d7f57"
   },
   "outputs": [
    {
     "ename": "AttributeError",
     "evalue": "ignored",
     "output_type": "error",
     "traceback": [
      "\u001b[0;31m---------------------------------------------------------------------------\u001b[0m",
      "\u001b[0;31mAttributeError\u001b[0m                            Traceback (most recent call last)",
      "\u001b[0;32m<ipython-input-158-a26ad779865c>\u001b[0m in \u001b[0;36m<module>\u001b[0;34m()\u001b[0m\n\u001b[0;32m----> 1\u001b[0;31m \u001b[0marr\u001b[0m\u001b[0;34m.\u001b[0m\u001b[0mtile\u001b[0m\u001b[0;34m(\u001b[0m\u001b[0;34m(\u001b[0m\u001b[0;36m2\u001b[0m\u001b[0;34m,\u001b[0m \u001b[0;36m3\u001b[0m\u001b[0;34m,\u001b[0m \u001b[0;36m4\u001b[0m\u001b[0;34m)\u001b[0m\u001b[0;34m)\u001b[0m\u001b[0;34m\u001b[0m\u001b[0;34m\u001b[0m\u001b[0m\n\u001b[0m",
      "\u001b[0;31mAttributeError\u001b[0m: 'numpy.ndarray' object has no attribute 'tile'"
     ]
    }
   ],
   "source": [
    "arr.tile((2, 3, 4))"
   ]
  },
  {
   "cell_type": "code",
   "execution_count": null,
   "metadata": {
    "colab": {
     "base_uri": "https://localhost:8080/",
     "height": 34
    },
    "colab_type": "code",
    "id": "cHBMfheKsLJb",
    "outputId": "7a541a68-26aa-47a6-878c-e941f2ccf85f"
   },
   "outputs": [
    {
     "data": {
      "text/plain": [
       "array([0, 1, 2])"
      ]
     },
     "execution_count": 160,
     "metadata": {
      "tags": []
     },
     "output_type": "execute_result"
    }
   ],
   "source": [
    "arr"
   ]
  },
  {
   "cell_type": "code",
   "execution_count": null,
   "metadata": {
    "colab": {},
    "colab_type": "code",
    "id": "vJb93n2brrmI"
   },
   "outputs": [],
   "source": [
    "x=np.tile(arr,(2,3)) #2 rows wese tiling and 3 column wise"
   ]
  },
  {
   "cell_type": "code",
   "execution_count": null,
   "metadata": {
    "colab": {
     "base_uri": "https://localhost:8080/",
     "height": 34
    },
    "colab_type": "code",
    "id": "ayrYPsfgsGhb",
    "outputId": "56051a78-e62b-45c4-f8cb-de75c2ea73fb"
   },
   "outputs": [
    {
     "data": {
      "text/plain": [
       "(2, 9)"
      ]
     },
     "execution_count": 333,
     "metadata": {
      "tags": []
     },
     "output_type": "execute_result"
    }
   ],
   "source": [
    "x.shape"
   ]
  },
  {
   "cell_type": "code",
   "execution_count": null,
   "metadata": {
    "colab": {},
    "colab_type": "code",
    "id": "beceJZ-wJgFz"
   },
   "outputs": [],
   "source": [
    "array=np.random.randn(1000)"
   ]
  },
  {
   "cell_type": "code",
   "execution_count": null,
   "metadata": {
    "colab": {
     "base_uri": "https://localhost:8080/",
     "height": 51
    },
    "colab_type": "code",
    "id": "3u15iLhoJ_1J",
    "outputId": "de3b755a-0023-493d-8cf9-7703c6785982"
   },
   "outputs": [
    {
     "data": {
      "text/plain": [
       "array([-0.24341796,  0.49755664,  1.12515323,  1.03113811, -1.97680915,\n",
       "       -0.93126452,  0.49635752, -0.45412453, -2.74721393, -1.30683523])"
      ]
     },
     "execution_count": 341,
     "metadata": {
      "tags": []
     },
     "output_type": "execute_result"
    }
   ],
   "source": [
    "array"
   ]
  },
  {
   "cell_type": "code",
   "execution_count": null,
   "metadata": {
    "colab": {
     "base_uri": "https://localhost:8080/",
     "height": 71
    },
    "colab_type": "code",
    "id": "-uRRVBtYKoV-",
    "outputId": "75c69bd4-5ae6-4bde-accf-3a66fe97cb6d"
   },
   "outputs": [
    {
     "name": "stdout",
     "output_type": "stream",
     "text": [
      "The slowest run took 32.88 times longer than the fastest. This could mean that an intermediate result is being cached.\n",
      "100000 loops, best of 3: 2.77 µs per loop\n"
     ]
    }
   ],
   "source": [
    "%%timeit\n",
    "array.sum()"
   ]
  },
  {
   "cell_type": "code",
   "execution_count": null,
   "metadata": {
    "colab": {
     "base_uri": "https://localhost:8080/",
     "height": 34
    },
    "colab_type": "code",
    "id": "x5JkKgdpKBOx",
    "outputId": "06378a71-539a-4d9c-eca1-dd5ed7acc6f0"
   },
   "outputs": [
    {
     "name": "stdout",
     "output_type": "stream",
     "text": [
      "1000 loops, best of 3: 208 µs per loop\n"
     ]
    }
   ],
   "source": [
    "%%timeit\n",
    "j=0\n",
    "for i in array:\n",
    "  j+=i"
   ]
  },
  {
   "cell_type": "code",
   "execution_count": null,
   "metadata": {
    "colab": {},
    "colab_type": "code",
    "id": "f5qks7qiKsMp"
   },
   "outputs": [],
   "source": []
  }
 ],
 "metadata": {
  "colab": {
   "name": "numpy.ipynb",
   "provenance": []
  },
  "kernelspec": {
   "display_name": "Python 3",
   "language": "python",
   "name": "python3"
  },
  "language_info": {
   "codemirror_mode": {
    "name": "ipython",
    "version": 3
   },
   "file_extension": ".py",
   "mimetype": "text/x-python",
   "name": "python",
   "nbconvert_exporter": "python",
   "pygments_lexer": "ipython3",
   "version": "3.7.3"
  }
 },
 "nbformat": 4,
 "nbformat_minor": 1
}
